{
 "cells": [
  {
   "cell_type": "markdown",
   "id": "cbe4056d-c9c2-4c08-8313-4e8d5132e053",
   "metadata": {},
   "source": [
    "# Common Pipeline to Process All 20 Cancer types Datasets\n",
    "## The following script will:\n",
    "\n",
    "### . Dynamically load and merge clinical, genomic, and sample data.\n",
    "### . Preprocess the data by handling missing values, encoding categorical variables, and normalizing numerical features.\n",
    "### . Train machine learning models to classify cancer types or predict survival outcomes.\n",
    "### . Save preprocessed data and evaluation results for further analysis."
   ]
  },
  {
   "cell_type": "code",
   "execution_count": null,
   "id": "1ed67429-29d0-44b0-920f-9c9f329ab230",
   "metadata": {},
   "outputs": [],
   "source": []
  },
  {
   "cell_type": "markdown",
   "id": "2eba21de-d1c8-4f11-b4e6-0d0035b9c1fb",
   "metadata": {},
   "source": [
    "## BLCA"
   ]
  },
  {
   "cell_type": "code",
   "execution_count": 1,
   "id": "da1f9814-9546-4a8e-a83f-5b44b964b5e4",
   "metadata": {},
   "outputs": [
    {
     "name": "stdout",
     "output_type": "stream",
     "text": [
      "Columns in data_clinical_patient.txt:\n",
      "['PATIENT_ID', 'OTHER_PATIENT_ID', 'PRIMARY_SITE_PATIENT', 'DISEASE_TYPE', 'PROJECT_NAME', 'PROJECT_ID', 'SEX', 'RACE', 'ETHNICITY', 'VITAL_STATUS', 'YEAR_OF_DEATH', 'SMOKING_PACK_YEARS', 'PRIMARY_DIAGNOSIS', 'YEAR_OF_DIAGNOSIS', 'PATH_M_STAGE', 'BIOPSY_SITE', 'AJCC_STAGING_EDITION', 'ICD_10', 'AGE', 'CLIN_T_STAGE', 'PATH_STAGE', 'MORPHOLOGY', 'PATH_T_STAGE', 'PRIOR_TREATMENT', 'PATH_N_STAGE', 'PRIOR_MALIGNANCY', 'PROJECT_STATE', 'OS_STATUS', 'OS_MONTHS', 'DFS_STATUS', 'DFS_MONTHS']\n",
      "\n",
      "Columns in data_clinical_sample.txt:\n",
      "['PATIENT_ID', 'SAMPLE_ID', 'ONCOTREE_CODE', 'CANCER_TYPE', 'CANCER_TYPE_DETAILED', 'OTHER_SAMPLE_ID', 'SAMPLE_TYPE', 'IS_FFPE']\n"
     ]
    }
   ],
   "source": [
    "import pandas as pd\n",
    "\n",
    "# Define file paths\n",
    "patient_data_path = \"data_clinical_patient.txt\"  # Replace with the actual path\n",
    "sample_data_path = \"data_clinical_sample.txt\"    # Replace with the actual path\n",
    "\n",
    "# Function to read and display columns\n",
    "def get_columns(file_path):\n",
    "    try:\n",
    "        # Read the file into a DataFrame\n",
    "        # Skip rows with metadata headers (adjust skiprows as needed based on file structure)\n",
    "        df = pd.read_csv(file_path, sep=\"\\t\", comment=\"#\", low_memory=False)\n",
    "        # Return column names\n",
    "        return df.columns.tolist()\n",
    "    except Exception as e:\n",
    "        return f\"Error reading file: {e}\"\n",
    "\n",
    "# Get columns for both files\n",
    "patient_columns = get_columns(patient_data_path)\n",
    "sample_columns = get_columns(sample_data_path)\n",
    "\n",
    "# Print the results\n",
    "print(\"Columns in data_clinical_patient.txt:\")\n",
    "print(patient_columns)\n",
    "\n",
    "print(\"\\nColumns in data_clinical_sample.txt:\")\n",
    "print(sample_columns)"
   ]
  },
  {
   "cell_type": "code",
   "execution_count": 2,
   "id": "6498b8af-4ba8-4e42-836e-5fa315562ed9",
   "metadata": {},
   "outputs": [],
   "source": [
    "import pandas as pd\n",
    "\n",
    "# Load the files\n",
    "patient_df = pd.read_csv(\"data_clinical_patient.txt\", sep=\"\\t\", comment=\"#\")\n",
    "sample_df = pd.read_csv(\"data_clinical_sample.txt\", sep=\"\\t\", comment=\"#\")\n",
    "\n",
    "# Merge the files\n",
    "merged_df = pd.merge(patient_df, sample_df, on=\"PATIENT_ID\", how=\"inner\")"
   ]
  },
  {
   "cell_type": "code",
   "execution_count": 3,
   "id": "fbdc90b5-dc00-4b3b-804e-0274826be5fa",
   "metadata": {},
   "outputs": [],
   "source": [
    "# Define relevant columns\n",
    "relevant_columns = [\n",
    "    \"PATIENT_ID\", \"SAMPLE_ID\", \"SEX\", \"RACE\", \"ETHNICITY\", \"AGE\", \n",
    "    \"VITAL_STATUS\", \"OS_STATUS\", \"OS_MONTHS\", \"DFS_STATUS\", \"DFS_MONTHS\",\n",
    "    \"PRIMARY_DIAGNOSIS\", \"PATH_STAGE\", \"PATH_T_STAGE\", \"PATH_N_STAGE\", \"PATH_M_STAGE\",\n",
    "    \"CANCER_TYPE\", \"CANCER_TYPE_DETAILED\", \"SAMPLE_TYPE\", \"IS_FFPE\"\n",
    "]\n",
    "\n",
    "# Filter the merged DataFrame\n",
    "clinical_data = merged_df[relevant_columns]"
   ]
  },
  {
   "cell_type": "code",
   "execution_count": 4,
   "id": "92236224-a4f0-4fae-902d-be01d4ee1304",
   "metadata": {},
   "outputs": [
    {
     "name": "stderr",
     "output_type": "stream",
     "text": [
      "C:\\Users\\RAMAVATH SANTHOSH\\AppData\\Local\\Temp\\ipykernel_4392\\2902579913.py:2: SettingWithCopyWarning: \n",
      "A value is trying to be set on a copy of a slice from a DataFrame\n",
      "\n",
      "See the caveats in the documentation: https://pandas.pydata.org/pandas-docs/stable/user_guide/indexing.html#returning-a-view-versus-a-copy\n",
      "  clinical_data.replace([\"not reported\", \"\"], pd.NA, inplace=True)\n",
      "C:\\Users\\RAMAVATH SANTHOSH\\AppData\\Local\\Temp\\ipykernel_4392\\2902579913.py:5: SettingWithCopyWarning: \n",
      "A value is trying to be set on a copy of a slice from a DataFrame\n",
      "\n",
      "See the caveats in the documentation: https://pandas.pydata.org/pandas-docs/stable/user_guide/indexing.html#returning-a-view-versus-a-copy\n",
      "  clinical_data.dropna(thresh=int(0.7 * len(relevant_columns)), inplace=True)\n"
     ]
    }
   ],
   "source": [
    "# Replace \"not reported\" or blank values with NaN\n",
    "clinical_data.replace([\"not reported\", \"\"], pd.NA, inplace=True)\n",
    "\n",
    "# Drop rows with excessive missing data (optional)\n",
    "clinical_data.dropna(thresh=int(0.7 * len(relevant_columns)), inplace=True)"
   ]
  },
  {
   "cell_type": "code",
   "execution_count": 5,
   "id": "82ac80c7-0ce9-4462-a456-cfe432f23985",
   "metadata": {},
   "outputs": [
    {
     "name": "stdout",
     "output_type": "stream",
     "text": [
      "Combined clinical data saved to combined_clinical_data.csv\n"
     ]
    }
   ],
   "source": [
    "# Save to a tab-delimited file\n",
    "clinical_data.to_csv(\"combined_clinical_data.csv\", index=False, sep=\"\\t\")\n",
    "print(\"Combined clinical data saved to combined_clinical_data.csv\")"
   ]
  },
  {
   "cell_type": "code",
   "execution_count": 6,
   "id": "0a222e2b-5b26-4b63-b568-60af3ce0c3c8",
   "metadata": {},
   "outputs": [],
   "source": [
    "import pandas as pd\n",
    "\n",
    "# Load the combined clinical data\n",
    "data_path = \"combined_clinical_data.csv\"  # Replace with the actual path\n",
    "df = pd.read_csv(data_path, sep=\"\\t\")"
   ]
  },
  {
   "cell_type": "code",
   "execution_count": 7,
   "id": "18d2b9d4-a46b-4b23-8397-26e7acb3d096",
   "metadata": {},
   "outputs": [
    {
     "name": "stderr",
     "output_type": "stream",
     "text": [
      "C:\\Users\\RAMAVATH SANTHOSH\\AppData\\Local\\Temp\\ipykernel_4392\\876390810.py:9: FutureWarning: A value is trying to be set on a copy of a DataFrame or Series through chained assignment using an inplace method.\n",
      "The behavior will change in pandas 3.0. This inplace method will never work because the intermediate object on which we are setting values always behaves as a copy.\n",
      "\n",
      "For example, when doing 'df[col].method(value, inplace=True)', try using 'df.method({col: value}, inplace=True)' or df[col] = df[col].method(value) instead, to perform the operation inplace on the original object.\n",
      "\n",
      "\n",
      "  df[col].fillna(df[col].median(), inplace=True)\n",
      "C:\\Users\\RAMAVATH SANTHOSH\\AppData\\Local\\Temp\\ipykernel_4392\\876390810.py:9: FutureWarning: A value is trying to be set on a copy of a DataFrame or Series through chained assignment using an inplace method.\n",
      "The behavior will change in pandas 3.0. This inplace method will never work because the intermediate object on which we are setting values always behaves as a copy.\n",
      "\n",
      "For example, when doing 'df[col].method(value, inplace=True)', try using 'df.method({col: value}, inplace=True)' or df[col] = df[col].method(value) instead, to perform the operation inplace on the original object.\n",
      "\n",
      "\n",
      "  df[col].fillna(df[col].median(), inplace=True)\n",
      "C:\\Users\\RAMAVATH SANTHOSH\\AppData\\Local\\Temp\\ipykernel_4392\\876390810.py:9: FutureWarning: A value is trying to be set on a copy of a DataFrame or Series through chained assignment using an inplace method.\n",
      "The behavior will change in pandas 3.0. This inplace method will never work because the intermediate object on which we are setting values always behaves as a copy.\n",
      "\n",
      "For example, when doing 'df[col].method(value, inplace=True)', try using 'df.method({col: value}, inplace=True)' or df[col] = df[col].method(value) instead, to perform the operation inplace on the original object.\n",
      "\n",
      "\n",
      "  df[col].fillna(df[col].median(), inplace=True)\n",
      "C:\\Users\\RAMAVATH SANTHOSH\\AppData\\Local\\Temp\\ipykernel_4392\\876390810.py:14: FutureWarning: A value is trying to be set on a copy of a DataFrame or Series through chained assignment using an inplace method.\n",
      "The behavior will change in pandas 3.0. This inplace method will never work because the intermediate object on which we are setting values always behaves as a copy.\n",
      "\n",
      "For example, when doing 'df[col].method(value, inplace=True)', try using 'df.method({col: value}, inplace=True)' or df[col] = df[col].method(value) instead, to perform the operation inplace on the original object.\n",
      "\n",
      "\n",
      "  df[col].fillna(df[col].mode()[0], inplace=True)\n"
     ]
    }
   ],
   "source": [
    "import numpy as np\n",
    "\n",
    "# Replace blanks with NaN\n",
    "df.replace([\"\", \"not reported\"], np.nan, inplace=True)\n",
    "\n",
    "# Impute numerical columns with the median\n",
    "numerical_cols = [\"AGE\", \"OS_MONTHS\", \"DFS_MONTHS\"]\n",
    "for col in numerical_cols:\n",
    "    df[col].fillna(df[col].median(), inplace=True)\n",
    "\n",
    "# Impute categorical columns with the mode\n",
    "categorical_cols = [\"RACE\", \"ETHNICITY\", \"PATH_STAGE\", \"PATH_T_STAGE\", \"PATH_N_STAGE\", \"PATH_M_STAGE\"]\n",
    "for col in categorical_cols:\n",
    "    df[col].fillna(df[col].mode()[0], inplace=True)\n",
    "\n",
    "# Drop rows with excessive missing data (optional)\n",
    "df.dropna(thresh=int(0.7 * len(df.columns)), inplace=True)"
   ]
  },
  {
   "cell_type": "code",
   "execution_count": 8,
   "id": "00b458ea-75d9-4a7e-875a-2f0e9ca1ccc0",
   "metadata": {},
   "outputs": [],
   "source": [
    "# One-hot encode categorical variables\n",
    "categorical_cols = [\"SEX\", \"RACE\", \"ETHNICITY\", \"VITAL_STATUS\", \"OS_STATUS\", \"DFS_STATUS\",\n",
    "                    \"PRIMARY_DIAGNOSIS\", \"PATH_STAGE\", \"PATH_T_STAGE\", \"PATH_N_STAGE\", \"PATH_M_STAGE\",\n",
    "                    \"CANCER_TYPE\", \"CANCER_TYPE_DETAILED\", \"SAMPLE_TYPE\", \"IS_FFPE\"]\n",
    "\n",
    "df = pd.get_dummies(df, columns=categorical_cols, drop_first=True)"
   ]
  },
  {
   "cell_type": "code",
   "execution_count": 9,
   "id": "07ad811c-b801-4d8d-bd1e-1c17c5d0980d",
   "metadata": {},
   "outputs": [],
   "source": [
    "from sklearn.preprocessing import MinMaxScaler\n",
    "\n",
    "# Normalize numerical features\n",
    "scaler = MinMaxScaler()\n",
    "numerical_cols = [\"AGE\", \"OS_MONTHS\", \"DFS_MONTHS\"]\n",
    "df[numerical_cols] = scaler.fit_transform(df[numerical_cols])"
   ]
  },
  {
   "cell_type": "code",
   "execution_count": 11,
   "id": "b9632a1e-3b34-491b-ac48-e5888c22c25a",
   "metadata": {},
   "outputs": [
    {
     "name": "stdout",
     "output_type": "stream",
     "text": [
      "Preprocessed clinical data saved to preprocessed_clinical_data.csv\n"
     ]
    }
   ],
   "source": [
    "output_file = \"preprocessed_clinical_data.csv\"\n",
    "df.to_csv(output_file, index=False, sep=\"\\t\")\n",
    "\n",
    "print(f\"Preprocessed clinical data saved to {output_file}\")"
   ]
  },
  {
   "cell_type": "code",
   "execution_count": 12,
   "id": "c72794b6-3130-46b6-a177-c223548a1b5f",
   "metadata": {},
   "outputs": [],
   "source": [
    "import pandas as pd\n",
    "\n",
    "# Load the preprocessed clinical data\n",
    "data_path = \"preprocessed_clinical_data.csv\"  # Replace with the actual path\n",
    "df = pd.read_csv(data_path, sep=\"\\t\")"
   ]
  },
  {
   "cell_type": "code",
   "execution_count": 29,
   "id": "8b35a4ef-b0b6-4368-91d0-cb6da0a4efec",
   "metadata": {},
   "outputs": [
    {
     "name": "stdout",
     "output_type": "stream",
     "text": [
      "     PATIENT_ID         SAMPLE_ID       AGE  OS_MONTHS  DFS_MONTHS  SEX_Male  \\\n",
      "0  TCGA-3C-AAAU  TCGA-3C-AAAU-01A  0.460317   0.470739    0.211314     False   \n",
      "1  TCGA-3C-AALI  TCGA-3C-AALI-01A  0.380952   0.465862    0.468093     False   \n",
      "2  TCGA-3C-AALJ  TCGA-3C-AALJ-01A  0.571429   0.171969    0.172277     False   \n",
      "3  TCGA-3C-AALK  TCGA-3C-AALK-01A  0.412698   0.168950    0.089060     False   \n",
      "4  TCGA-4H-AAAK  TCGA-4H-AAAK-01A  0.380952   0.041222    0.040673     False   \n",
      "\n",
      "   RACE_ASIAN  RACE_BLACK OR AFRICAN AMERICAN  RACE_WHITE  \\\n",
      "0       False                           False        True   \n",
      "1       False                            True       False   \n",
      "2       False                            True       False   \n",
      "3       False                            True       False   \n",
      "4       False                           False        True   \n",
      "\n",
      "   ETHNICITY_NOT HISPANIC OR LATINO  ...  PATH_N_STAGE_N2a  PATH_N_STAGE_N3  \\\n",
      "0                              True  ...             False            False   \n",
      "1                              True  ...             False            False   \n",
      "2                              True  ...             False            False   \n",
      "3                              True  ...             False            False   \n",
      "4                              True  ...              True            False   \n",
      "\n",
      "   PATH_N_STAGE_N3a  PATH_N_STAGE_N3b  PATH_N_STAGE_N3c  PATH_N_STAGE_NX  \\\n",
      "0             False             False             False             True   \n",
      "1             False             False             False            False   \n",
      "2             False             False             False            False   \n",
      "3             False             False             False            False   \n",
      "4             False             False             False            False   \n",
      "\n",
      "   PATH_M_STAGE_M1  PATH_M_STAGE_MX  PATH_M_STAGE_cM0 (i+)  \\\n",
      "0            False             True                  False   \n",
      "1            False            False                  False   \n",
      "2            False            False                  False   \n",
      "3            False            False                  False   \n",
      "4            False            False                  False   \n",
      "\n",
      "   SAMPLE_TYPE_Primary solid Tumor  \n",
      "0                             True  \n",
      "1                             True  \n",
      "2                             True  \n",
      "3                             True  \n",
      "4                             True  \n",
      "\n",
      "[5 rows x 76 columns]\n",
      "<class 'pandas.core.frame.DataFrame'>\n",
      "RangeIndex: 1102 entries, 0 to 1101\n",
      "Data columns (total 76 columns):\n",
      " #   Column                                                                      Non-Null Count  Dtype  \n",
      "---  ------                                                                      --------------  -----  \n",
      " 0   PATIENT_ID                                                                  1102 non-null   object \n",
      " 1   SAMPLE_ID                                                                   1102 non-null   object \n",
      " 2   AGE                                                                         1102 non-null   float64\n",
      " 3   OS_MONTHS                                                                   1102 non-null   float64\n",
      " 4   DFS_MONTHS                                                                  1102 non-null   float64\n",
      " 5   SEX_Male                                                                    1102 non-null   bool   \n",
      " 6   RACE_ASIAN                                                                  1102 non-null   bool   \n",
      " 7   RACE_BLACK OR AFRICAN AMERICAN                                              1102 non-null   bool   \n",
      " 8   RACE_WHITE                                                                  1102 non-null   bool   \n",
      " 9   ETHNICITY_NOT HISPANIC OR LATINO                                            1102 non-null   bool   \n",
      " 10  VITAL_STATUS_Dead                                                           1102 non-null   bool   \n",
      " 11  OS_STATUS_1:DECEASED                                                        1102 non-null   bool   \n",
      " 12  DFS_STATUS_1:Recurred/Progressed                                            1102 non-null   bool   \n",
      " 13  PRIMARY_DIAGNOSIS_Apocrine adenocarcinoma                                   1102 non-null   bool   \n",
      " 14  PRIMARY_DIAGNOSIS_Basal cell carcinoma, NOS                                 1102 non-null   bool   \n",
      " 15  PRIMARY_DIAGNOSIS_Carcinoma, NOS                                            1102 non-null   bool   \n",
      " 16  PRIMARY_DIAGNOSIS_Cribriform carcinoma, NOS                                 1102 non-null   bool   \n",
      " 17  PRIMARY_DIAGNOSIS_Infiltrating duct and lobular carcinoma                   1102 non-null   bool   \n",
      " 18  PRIMARY_DIAGNOSIS_Infiltrating duct carcinoma, NOS                          1102 non-null   bool   \n",
      " 19  PRIMARY_DIAGNOSIS_Infiltrating duct mixed with other types of carcinoma     1102 non-null   bool   \n",
      " 20  PRIMARY_DIAGNOSIS_Infiltrating lobular mixed with other types of carcinoma  1102 non-null   bool   \n",
      " 21  PRIMARY_DIAGNOSIS_Intraductal micropapillary carcinoma                      1102 non-null   bool   \n",
      " 22  PRIMARY_DIAGNOSIS_Intraductal papillary adenocarcinoma with invasion        1102 non-null   bool   \n",
      " 23  PRIMARY_DIAGNOSIS_Large cell neuroendocrine carcinoma                       1102 non-null   bool   \n",
      " 24  PRIMARY_DIAGNOSIS_Lobular carcinoma, NOS                                    1102 non-null   bool   \n",
      " 25  PRIMARY_DIAGNOSIS_Medullary carcinoma, NOS                                  1102 non-null   bool   \n",
      " 26  PRIMARY_DIAGNOSIS_Metaplastic carcinoma, NOS                                1102 non-null   bool   \n",
      " 27  PRIMARY_DIAGNOSIS_Mucinous adenocarcinoma                                   1102 non-null   bool   \n",
      " 28  PRIMARY_DIAGNOSIS_Paget disease and infiltrating duct carcinoma of breast   1102 non-null   bool   \n",
      " 29  PRIMARY_DIAGNOSIS_Papillary carcinoma, NOS                                  1102 non-null   bool   \n",
      " 30  PRIMARY_DIAGNOSIS_Phyllodes tumor, malignant                                1102 non-null   bool   \n",
      " 31  PRIMARY_DIAGNOSIS_Pleomorphic carcinoma                                     1102 non-null   bool   \n",
      " 32  PRIMARY_DIAGNOSIS_Secretory carcinoma of breast                             1102 non-null   bool   \n",
      " 33  PRIMARY_DIAGNOSIS_Tubular adenocarcinoma                                    1102 non-null   bool   \n",
      " 34  PATH_STAGE_Stage IA                                                         1102 non-null   bool   \n",
      " 35  PATH_STAGE_Stage IB                                                         1102 non-null   bool   \n",
      " 36  PATH_STAGE_Stage II                                                         1102 non-null   bool   \n",
      " 37  PATH_STAGE_Stage IIA                                                        1102 non-null   bool   \n",
      " 38  PATH_STAGE_Stage IIB                                                        1102 non-null   bool   \n",
      " 39  PATH_STAGE_Stage III                                                        1102 non-null   bool   \n",
      " 40  PATH_STAGE_Stage IIIA                                                       1102 non-null   bool   \n",
      " 41  PATH_STAGE_Stage IIIB                                                       1102 non-null   bool   \n",
      " 42  PATH_STAGE_Stage IIIC                                                       1102 non-null   bool   \n",
      " 43  PATH_STAGE_Stage IV                                                         1102 non-null   bool   \n",
      " 44  PATH_STAGE_Stage X                                                          1102 non-null   bool   \n",
      " 45  PATH_T_STAGE_T1a                                                            1102 non-null   bool   \n",
      " 46  PATH_T_STAGE_T1b                                                            1102 non-null   bool   \n",
      " 47  PATH_T_STAGE_T1c                                                            1102 non-null   bool   \n",
      " 48  PATH_T_STAGE_T2                                                             1102 non-null   bool   \n",
      " 49  PATH_T_STAGE_T2a                                                            1102 non-null   bool   \n",
      " 50  PATH_T_STAGE_T2b                                                            1102 non-null   bool   \n",
      " 51  PATH_T_STAGE_T3                                                             1102 non-null   bool   \n",
      " 52  PATH_T_STAGE_T3a                                                            1102 non-null   bool   \n",
      " 53  PATH_T_STAGE_T4                                                             1102 non-null   bool   \n",
      " 54  PATH_T_STAGE_T4b                                                            1102 non-null   bool   \n",
      " 55  PATH_T_STAGE_T4d                                                            1102 non-null   bool   \n",
      " 56  PATH_T_STAGE_TX                                                             1102 non-null   bool   \n",
      " 57  PATH_N_STAGE_N0 (i+)                                                        1102 non-null   bool   \n",
      " 58  PATH_N_STAGE_N0 (i-)                                                        1102 non-null   bool   \n",
      " 59  PATH_N_STAGE_N0 (mol+)                                                      1102 non-null   bool   \n",
      " 60  PATH_N_STAGE_N1                                                             1102 non-null   bool   \n",
      " 61  PATH_N_STAGE_N1a                                                            1102 non-null   bool   \n",
      " 62  PATH_N_STAGE_N1b                                                            1102 non-null   bool   \n",
      " 63  PATH_N_STAGE_N1c                                                            1102 non-null   bool   \n",
      " 64  PATH_N_STAGE_N1mi                                                           1102 non-null   bool   \n",
      " 65  PATH_N_STAGE_N2                                                             1102 non-null   bool   \n",
      " 66  PATH_N_STAGE_N2a                                                            1102 non-null   bool   \n",
      " 67  PATH_N_STAGE_N3                                                             1102 non-null   bool   \n",
      " 68  PATH_N_STAGE_N3a                                                            1102 non-null   bool   \n",
      " 69  PATH_N_STAGE_N3b                                                            1102 non-null   bool   \n",
      " 70  PATH_N_STAGE_N3c                                                            1102 non-null   bool   \n",
      " 71  PATH_N_STAGE_NX                                                             1102 non-null   bool   \n",
      " 72  PATH_M_STAGE_M1                                                             1102 non-null   bool   \n",
      " 73  PATH_M_STAGE_MX                                                             1102 non-null   bool   \n",
      " 74  PATH_M_STAGE_cM0 (i+)                                                       1102 non-null   bool   \n",
      " 75  SAMPLE_TYPE_Primary solid Tumor                                             1102 non-null   bool   \n",
      "dtypes: bool(71), float64(3), object(2)\n",
      "memory usage: 119.6+ KB\n",
      "None\n",
      "               AGE    OS_MONTHS   DFS_MONTHS\n",
      "count  1102.000000  1102.000000  1102.000000\n",
      "mean      0.515729     0.143765     0.128653\n",
      "std       0.208279     0.138307     0.119937\n",
      "min       0.000000     0.000000     0.000000\n",
      "25%       0.365079     0.052049     0.057328\n",
      "50%       0.507937     0.096087     0.089060\n",
      "75%       0.650794     0.195077     0.159303\n",
      "max       1.000000     1.000000     1.000000\n"
     ]
    }
   ],
   "source": [
    "print(df.head())       # View the first few rows\n",
    "print(df.info())       # Check data types and missing values\n",
    "print(df.describe())   # Summary statistics for numerical columns"
   ]
  },
  {
   "cell_type": "code",
   "execution_count": 13,
   "id": "a0edbc67-67a5-4b24-b515-14e4655608e3",
   "metadata": {},
   "outputs": [],
   "source": [
    "# Input features (exclude non-predictive columns like PATIENT_ID and SAMPLE_ID)\n",
    "X = df.drop(columns=[\"PATIENT_ID\", \"SAMPLE_ID\"])\n",
    "\n",
    "# Target labels (e.g., cancer type based on PRIMARY_DIAGNOSIS)\n",
    "diagnosis_columns = [col for col in df.columns if col.startswith(\"PRIMARY_DIAGNOSIS_\")]\n",
    "y = df[diagnosis_columns]"
   ]
  },
  {
   "cell_type": "code",
   "execution_count": 14,
   "id": "255d640d-38bf-452c-b588-c6e15c7e26e9",
   "metadata": {},
   "outputs": [
    {
     "name": "stdout",
     "output_type": "stream",
     "text": [
      "['PRIMARY_DIAGNOSIS_Papillary adenocarcinoma, NOS', 'PRIMARY_DIAGNOSIS_Papillary transitional cell carcinoma', 'PRIMARY_DIAGNOSIS_Squamous cell carcinoma, NOS', 'PRIMARY_DIAGNOSIS_Transitional cell carcinoma']\n"
     ]
    }
   ],
   "source": [
    "print(diagnosis_columns)"
   ]
  },
  {
   "cell_type": "code",
   "execution_count": 15,
   "id": "02c7924c-10c4-4e35-9e91-6680d951b538",
   "metadata": {},
   "outputs": [],
   "source": [
    "from sklearn.model_selection import train_test_split\n",
    "\n",
    "X_train, X_test, y_train, y_test = train_test_split(X, y, test_size=0.2, random_state=42)"
   ]
  },
  {
   "cell_type": "code",
   "execution_count": 16,
   "id": "c3ea01bc-50f7-4094-9769-eb7951906eee",
   "metadata": {},
   "outputs": [
    {
     "name": "stdout",
     "output_type": "stream",
     "text": [
      "False    83\n",
      "Name: count, dtype: int64\n"
     ]
    }
   ],
   "source": [
    "print(y_test.all(axis=1).value_counts())"
   ]
  },
  {
   "cell_type": "code",
   "execution_count": 17,
   "id": "7162d55d-91a1-4128-808d-356588145890",
   "metadata": {},
   "outputs": [
    {
     "name": "stderr",
     "output_type": "stream",
     "text": [
      "C:\\Users\\RAMAVATH SANTHOSH\\AppData\\Local\\Programs\\Python\\Python312\\Lib\\site-packages\\keras\\src\\layers\\core\\input_layer.py:27: UserWarning: Argument `input_shape` is deprecated. Use `shape` instead.\n",
      "  warnings.warn(\n"
     ]
    }
   ],
   "source": [
    "import tensorflow as tf\n",
    "\n",
    "# Define the model\n",
    "model = tf.keras.Sequential([\n",
    "    tf.keras.layers.InputLayer(input_shape=(X_train.shape[1],)),\n",
    "    tf.keras.layers.Dense(128, activation=\"relu\"),\n",
    "    tf.keras.layers.Dropout(0.3),\n",
    "    tf.keras.layers.Dense(64, activation=\"relu\"),\n",
    "    tf.keras.layers.Dense(y_train.shape[1], activation=\"softmax\")  # Output layer\n",
    "])\n",
    "\n",
    "# Compile the model\n",
    "model.compile(optimizer=\"adam\", loss=\"categorical_crossentropy\", metrics=[\"accuracy\"])"
   ]
  },
  {
   "cell_type": "code",
   "execution_count": 18,
   "id": "d4e54d41-fdf2-48b5-8820-1b68281b26f3",
   "metadata": {},
   "outputs": [
    {
     "name": "stdout",
     "output_type": "stream",
     "text": [
      "Epoch 1/50\n",
      "\u001b[1m11/11\u001b[0m \u001b[32m━━━━━━━━━━━━━━━━━━━━\u001b[0m\u001b[37m\u001b[0m \u001b[1m1s\u001b[0m 22ms/step - accuracy: 0.5752 - loss: 1.1730 - val_accuracy: 0.8193 - val_loss: 0.6697\n",
      "Epoch 2/50\n",
      "\u001b[1m11/11\u001b[0m \u001b[32m━━━━━━━━━━━━━━━━━━━━\u001b[0m\u001b[37m\u001b[0m \u001b[1m0s\u001b[0m 8ms/step - accuracy: 0.8382 - loss: 0.5849 - val_accuracy: 0.8193 - val_loss: 0.4578\n",
      "Epoch 3/50\n",
      "\u001b[1m11/11\u001b[0m \u001b[32m━━━━━━━━━━━━━━━━━━━━\u001b[0m\u001b[37m\u001b[0m \u001b[1m0s\u001b[0m 8ms/step - accuracy: 0.8350 - loss: 0.3882 - val_accuracy: 0.8193 - val_loss: 0.3597\n",
      "Epoch 4/50\n",
      "\u001b[1m11/11\u001b[0m \u001b[32m━━━━━━━━━━━━━━━━━━━━\u001b[0m\u001b[37m\u001b[0m \u001b[1m0s\u001b[0m 11ms/step - accuracy: 0.8546 - loss: 0.2849 - val_accuracy: 0.8795 - val_loss: 0.2576\n",
      "Epoch 5/50\n",
      "\u001b[1m11/11\u001b[0m \u001b[32m━━━━━━━━━━━━━━━━━━━━\u001b[0m\u001b[37m\u001b[0m \u001b[1m0s\u001b[0m 8ms/step - accuracy: 0.9710 - loss: 0.1682 - val_accuracy: 0.9518 - val_loss: 0.1861\n",
      "Epoch 6/50\n",
      "\u001b[1m11/11\u001b[0m \u001b[32m━━━━━━━━━━━━━━━━━━━━\u001b[0m\u001b[37m\u001b[0m \u001b[1m0s\u001b[0m 8ms/step - accuracy: 0.9664 - loss: 0.1225 - val_accuracy: 0.9759 - val_loss: 0.1368\n",
      "Epoch 7/50\n",
      "\u001b[1m11/11\u001b[0m \u001b[32m━━━━━━━━━━━━━━━━━━━━\u001b[0m\u001b[37m\u001b[0m \u001b[1m0s\u001b[0m 8ms/step - accuracy: 0.9862 - loss: 0.0763 - val_accuracy: 0.9880 - val_loss: 0.1021\n",
      "Epoch 8/50\n",
      "\u001b[1m11/11\u001b[0m \u001b[32m━━━━━━━━━━━━━━━━━━━━\u001b[0m\u001b[37m\u001b[0m \u001b[1m0s\u001b[0m 8ms/step - accuracy: 0.9934 - loss: 0.0415 - val_accuracy: 0.9880 - val_loss: 0.0880\n",
      "Epoch 9/50\n",
      "\u001b[1m11/11\u001b[0m \u001b[32m━━━━━━━━━━━━━━━━━━━━\u001b[0m\u001b[37m\u001b[0m \u001b[1m0s\u001b[0m 8ms/step - accuracy: 0.9972 - loss: 0.0264 - val_accuracy: 0.9880 - val_loss: 0.0835\n",
      "Epoch 10/50\n",
      "\u001b[1m11/11\u001b[0m \u001b[32m━━━━━━━━━━━━━━━━━━━━\u001b[0m\u001b[37m\u001b[0m \u001b[1m0s\u001b[0m 7ms/step - accuracy: 0.9892 - loss: 0.0221 - val_accuracy: 0.9880 - val_loss: 0.0786\n",
      "Epoch 11/50\n",
      "\u001b[1m11/11\u001b[0m \u001b[32m━━━━━━━━━━━━━━━━━━━━\u001b[0m\u001b[37m\u001b[0m \u001b[1m0s\u001b[0m 8ms/step - accuracy: 0.9962 - loss: 0.0165 - val_accuracy: 0.9880 - val_loss: 0.0751\n",
      "Epoch 12/50\n",
      "\u001b[1m11/11\u001b[0m \u001b[32m━━━━━━━━━━━━━━━━━━━━\u001b[0m\u001b[37m\u001b[0m \u001b[1m0s\u001b[0m 8ms/step - accuracy: 0.9965 - loss: 0.0138 - val_accuracy: 0.9880 - val_loss: 0.0730\n",
      "Epoch 13/50\n",
      "\u001b[1m11/11\u001b[0m \u001b[32m━━━━━━━━━━━━━━━━━━━━\u001b[0m\u001b[37m\u001b[0m \u001b[1m0s\u001b[0m 8ms/step - accuracy: 0.9953 - loss: 0.0165 - val_accuracy: 0.9880 - val_loss: 0.0713\n",
      "Epoch 14/50\n",
      "\u001b[1m11/11\u001b[0m \u001b[32m━━━━━━━━━━━━━━━━━━━━\u001b[0m\u001b[37m\u001b[0m \u001b[1m0s\u001b[0m 8ms/step - accuracy: 0.9901 - loss: 0.0105 - val_accuracy: 0.9880 - val_loss: 0.0690\n",
      "Epoch 15/50\n",
      "\u001b[1m11/11\u001b[0m \u001b[32m━━━━━━━━━━━━━━━━━━━━\u001b[0m\u001b[37m\u001b[0m \u001b[1m0s\u001b[0m 8ms/step - accuracy: 0.9972 - loss: 0.0103 - val_accuracy: 0.9880 - val_loss: 0.0686\n",
      "Epoch 16/50\n",
      "\u001b[1m11/11\u001b[0m \u001b[32m━━━━━━━━━━━━━━━━━━━━\u001b[0m\u001b[37m\u001b[0m \u001b[1m0s\u001b[0m 8ms/step - accuracy: 0.9933 - loss: 0.0114 - val_accuracy: 0.9880 - val_loss: 0.0669\n",
      "Epoch 17/50\n",
      "\u001b[1m11/11\u001b[0m \u001b[32m━━━━━━━━━━━━━━━━━━━━\u001b[0m\u001b[37m\u001b[0m \u001b[1m0s\u001b[0m 8ms/step - accuracy: 0.9985 - loss: 0.0045 - val_accuracy: 0.9880 - val_loss: 0.0666\n",
      "Epoch 18/50\n",
      "\u001b[1m11/11\u001b[0m \u001b[32m━━━━━━━━━━━━━━━━━━━━\u001b[0m\u001b[37m\u001b[0m \u001b[1m0s\u001b[0m 8ms/step - accuracy: 0.9947 - loss: 0.0116 - val_accuracy: 0.9880 - val_loss: 0.0661\n",
      "Epoch 19/50\n",
      "\u001b[1m11/11\u001b[0m \u001b[32m━━━━━━━━━━━━━━━━━━━━\u001b[0m\u001b[37m\u001b[0m \u001b[1m0s\u001b[0m 8ms/step - accuracy: 0.9961 - loss: 0.0071 - val_accuracy: 0.9880 - val_loss: 0.0646\n",
      "Epoch 20/50\n",
      "\u001b[1m11/11\u001b[0m \u001b[32m━━━━━━━━━━━━━━━━━━━━\u001b[0m\u001b[37m\u001b[0m \u001b[1m0s\u001b[0m 8ms/step - accuracy: 0.9945 - loss: 0.0085 - val_accuracy: 0.9880 - val_loss: 0.0635\n",
      "Epoch 21/50\n",
      "\u001b[1m11/11\u001b[0m \u001b[32m━━━━━━━━━━━━━━━━━━━━\u001b[0m\u001b[37m\u001b[0m \u001b[1m0s\u001b[0m 8ms/step - accuracy: 0.9911 - loss: 0.0081 - val_accuracy: 0.9880 - val_loss: 0.0618\n",
      "Epoch 22/50\n",
      "\u001b[1m11/11\u001b[0m \u001b[32m━━━━━━━━━━━━━━━━━━━━\u001b[0m\u001b[37m\u001b[0m \u001b[1m0s\u001b[0m 8ms/step - accuracy: 0.9901 - loss: 0.0115 - val_accuracy: 0.9880 - val_loss: 0.0624\n",
      "Epoch 23/50\n",
      "\u001b[1m11/11\u001b[0m \u001b[32m━━━━━━━━━━━━━━━━━━━━\u001b[0m\u001b[37m\u001b[0m \u001b[1m0s\u001b[0m 8ms/step - accuracy: 0.9986 - loss: 0.0098 - val_accuracy: 0.9880 - val_loss: 0.0624\n",
      "Epoch 24/50\n",
      "\u001b[1m11/11\u001b[0m \u001b[32m━━━━━━━━━━━━━━━━━━━━\u001b[0m\u001b[37m\u001b[0m \u001b[1m0s\u001b[0m 14ms/step - accuracy: 0.9945 - loss: 0.0047 - val_accuracy: 0.9880 - val_loss: 0.0611\n",
      "Epoch 25/50\n",
      "\u001b[1m11/11\u001b[0m \u001b[32m━━━━━━━━━━━━━━━━━━━━\u001b[0m\u001b[37m\u001b[0m \u001b[1m0s\u001b[0m 8ms/step - accuracy: 0.9966 - loss: 0.0029 - val_accuracy: 0.9880 - val_loss: 0.0604\n",
      "Epoch 26/50\n",
      "\u001b[1m11/11\u001b[0m \u001b[32m━━━━━━━━━━━━━━━━━━━━\u001b[0m\u001b[37m\u001b[0m \u001b[1m0s\u001b[0m 8ms/step - accuracy: 0.9986 - loss: 0.0034 - val_accuracy: 0.9880 - val_loss: 0.0598\n",
      "Epoch 27/50\n",
      "\u001b[1m11/11\u001b[0m \u001b[32m━━━━━━━━━━━━━━━━━━━━\u001b[0m\u001b[37m\u001b[0m \u001b[1m0s\u001b[0m 8ms/step - accuracy: 0.9964 - loss: 0.0051 - val_accuracy: 0.9880 - val_loss: 0.0592\n",
      "Epoch 28/50\n",
      "\u001b[1m11/11\u001b[0m \u001b[32m━━━━━━━━━━━━━━━━━━━━\u001b[0m\u001b[37m\u001b[0m \u001b[1m0s\u001b[0m 8ms/step - accuracy: 0.9978 - loss: 0.0037 - val_accuracy: 0.9880 - val_loss: 0.0590\n",
      "Epoch 29/50\n",
      "\u001b[1m11/11\u001b[0m \u001b[32m━━━━━━━━━━━━━━━━━━━━\u001b[0m\u001b[37m\u001b[0m \u001b[1m0s\u001b[0m 8ms/step - accuracy: 0.9945 - loss: 0.0024 - val_accuracy: 0.9880 - val_loss: 0.0594\n",
      "Epoch 30/50\n",
      "\u001b[1m11/11\u001b[0m \u001b[32m━━━━━━━━━━━━━━━━━━━━\u001b[0m\u001b[37m\u001b[0m \u001b[1m0s\u001b[0m 9ms/step - accuracy: 0.9982 - loss: 0.0026 - val_accuracy: 0.9880 - val_loss: 0.0599\n",
      "Epoch 31/50\n",
      "\u001b[1m11/11\u001b[0m \u001b[32m━━━━━━━━━━━━━━━━━━━━\u001b[0m\u001b[37m\u001b[0m \u001b[1m0s\u001b[0m 9ms/step - accuracy: 0.9982 - loss: 0.0021 - val_accuracy: 0.9880 - val_loss: 0.0590\n",
      "Epoch 32/50\n",
      "\u001b[1m11/11\u001b[0m \u001b[32m━━━━━━━━━━━━━━━━━━━━\u001b[0m\u001b[37m\u001b[0m \u001b[1m0s\u001b[0m 7ms/step - accuracy: 0.9989 - loss: 0.0036 - val_accuracy: 0.9880 - val_loss: 0.0597\n",
      "Epoch 33/50\n",
      "\u001b[1m11/11\u001b[0m \u001b[32m━━━━━━━━━━━━━━━━━━━━\u001b[0m\u001b[37m\u001b[0m \u001b[1m0s\u001b[0m 8ms/step - accuracy: 0.9978 - loss: 0.0014 - val_accuracy: 0.9880 - val_loss: 0.0617\n",
      "Epoch 34/50\n",
      "\u001b[1m11/11\u001b[0m \u001b[32m━━━━━━━━━━━━━━━━━━━━\u001b[0m\u001b[37m\u001b[0m \u001b[1m0s\u001b[0m 8ms/step - accuracy: 0.9919 - loss: 0.0029 - val_accuracy: 0.9880 - val_loss: 0.0617\n",
      "Epoch 35/50\n",
      "\u001b[1m11/11\u001b[0m \u001b[32m━━━━━━━━━━━━━━━━━━━━\u001b[0m\u001b[37m\u001b[0m \u001b[1m0s\u001b[0m 8ms/step - accuracy: 0.9966 - loss: 0.0031 - val_accuracy: 0.9880 - val_loss: 0.0606\n",
      "Epoch 36/50\n",
      "\u001b[1m11/11\u001b[0m \u001b[32m━━━━━━━━━━━━━━━━━━━━\u001b[0m\u001b[37m\u001b[0m \u001b[1m0s\u001b[0m 8ms/step - accuracy: 0.9966 - loss: 0.0015 - val_accuracy: 0.9880 - val_loss: 0.0593\n",
      "Epoch 37/50\n",
      "\u001b[1m11/11\u001b[0m \u001b[32m━━━━━━━━━━━━━━━━━━━━\u001b[0m\u001b[37m\u001b[0m \u001b[1m0s\u001b[0m 8ms/step - accuracy: 0.9992 - loss: 0.0020 - val_accuracy: 0.9880 - val_loss: 0.0593\n",
      "Epoch 38/50\n",
      "\u001b[1m11/11\u001b[0m \u001b[32m━━━━━━━━━━━━━━━━━━━━\u001b[0m\u001b[37m\u001b[0m \u001b[1m0s\u001b[0m 8ms/step - accuracy: 0.9945 - loss: 0.0024 - val_accuracy: 0.9880 - val_loss: 0.0582\n",
      "Epoch 39/50\n",
      "\u001b[1m11/11\u001b[0m \u001b[32m━━━━━━━━━━━━━━━━━━━━\u001b[0m\u001b[37m\u001b[0m \u001b[1m0s\u001b[0m 8ms/step - accuracy: 0.9945 - loss: 0.0011 - val_accuracy: 0.9880 - val_loss: 0.0583\n",
      "Epoch 40/50\n",
      "\u001b[1m11/11\u001b[0m \u001b[32m━━━━━━━━━━━━━━━━━━━━\u001b[0m\u001b[37m\u001b[0m \u001b[1m0s\u001b[0m 8ms/step - accuracy: 0.9986 - loss: 0.0017 - val_accuracy: 0.9880 - val_loss: 0.0591\n",
      "Epoch 41/50\n",
      "\u001b[1m11/11\u001b[0m \u001b[32m━━━━━━━━━━━━━━━━━━━━\u001b[0m\u001b[37m\u001b[0m \u001b[1m0s\u001b[0m 8ms/step - accuracy: 0.9989 - loss: 0.0012 - val_accuracy: 0.9880 - val_loss: 0.0607\n",
      "Epoch 42/50\n",
      "\u001b[1m11/11\u001b[0m \u001b[32m━━━━━━━━━━━━━━━━━━━━\u001b[0m\u001b[37m\u001b[0m \u001b[1m0s\u001b[0m 8ms/step - accuracy: 0.9958 - loss: 9.0108e-04 - val_accuracy: 0.9880 - val_loss: 0.0607\n",
      "Epoch 43/50\n",
      "\u001b[1m11/11\u001b[0m \u001b[32m━━━━━━━━━━━━━━━━━━━━\u001b[0m\u001b[37m\u001b[0m \u001b[1m0s\u001b[0m 8ms/step - accuracy: 0.9992 - loss: 0.0012 - val_accuracy: 0.9880 - val_loss: 0.0598\n",
      "Epoch 44/50\n",
      "\u001b[1m11/11\u001b[0m \u001b[32m━━━━━━━━━━━━━━━━━━━━\u001b[0m\u001b[37m\u001b[0m \u001b[1m0s\u001b[0m 8ms/step - accuracy: 0.9973 - loss: 0.0022 - val_accuracy: 0.9880 - val_loss: 0.0578\n",
      "Epoch 45/50\n",
      "\u001b[1m11/11\u001b[0m \u001b[32m━━━━━━━━━━━━━━━━━━━━\u001b[0m\u001b[37m\u001b[0m \u001b[1m0s\u001b[0m 8ms/step - accuracy: 0.9986 - loss: 0.0011 - val_accuracy: 0.9880 - val_loss: 0.0587\n",
      "Epoch 46/50\n",
      "\u001b[1m11/11\u001b[0m \u001b[32m━━━━━━━━━━━━━━━━━━━━\u001b[0m\u001b[37m\u001b[0m \u001b[1m0s\u001b[0m 8ms/step - accuracy: 0.9989 - loss: 0.0015 - val_accuracy: 0.9880 - val_loss: 0.0603\n",
      "Epoch 47/50\n",
      "\u001b[1m11/11\u001b[0m \u001b[32m━━━━━━━━━━━━━━━━━━━━\u001b[0m\u001b[37m\u001b[0m \u001b[1m0s\u001b[0m 8ms/step - accuracy: 0.9945 - loss: 6.1662e-04 - val_accuracy: 0.9880 - val_loss: 0.0585\n",
      "Epoch 48/50\n",
      "\u001b[1m11/11\u001b[0m \u001b[32m━━━━━━━━━━━━━━━━━━━━\u001b[0m\u001b[37m\u001b[0m \u001b[1m0s\u001b[0m 8ms/step - accuracy: 0.9945 - loss: 0.0012 - val_accuracy: 0.9880 - val_loss: 0.0583\n",
      "Epoch 49/50\n",
      "\u001b[1m11/11\u001b[0m \u001b[32m━━━━━━━━━━━━━━━━━━━━\u001b[0m\u001b[37m\u001b[0m \u001b[1m0s\u001b[0m 8ms/step - accuracy: 0.9982 - loss: 0.0013 - val_accuracy: 0.9880 - val_loss: 0.0582\n",
      "Epoch 50/50\n",
      "\u001b[1m11/11\u001b[0m \u001b[32m━━━━━━━━━━━━━━━━━━━━\u001b[0m\u001b[37m\u001b[0m \u001b[1m0s\u001b[0m 8ms/step - accuracy: 0.9982 - loss: 6.1504e-04 - val_accuracy: 0.9880 - val_loss: 0.0568\n"
     ]
    },
    {
     "data": {
      "text/plain": [
       "<keras.src.callbacks.history.History at 0x19bfcf669f0>"
      ]
     },
     "execution_count": 18,
     "metadata": {},
     "output_type": "execute_result"
    }
   ],
   "source": [
    "model.fit(X_train, y_train, validation_data=(X_test, y_test), epochs=50, batch_size=32)"
   ]
  },
  {
   "cell_type": "code",
   "execution_count": 19,
   "id": "d3d1f7ed-ffaf-45e4-b859-10d133c52689",
   "metadata": {},
   "outputs": [
    {
     "name": "stdout",
     "output_type": "stream",
     "text": [
      "\u001b[1m3/3\u001b[0m \u001b[32m━━━━━━━━━━━━━━━━━━━━\u001b[0m\u001b[37m\u001b[0m \u001b[1m0s\u001b[0m 13ms/step - accuracy: 0.9901 - loss: 0.0469    \n",
      "Test Accuracy: 0.99\n"
     ]
    }
   ],
   "source": [
    "loss, accuracy = model.evaluate(X_test, y_test)\n",
    "print(f\"Test Accuracy: {accuracy:.2f}\")"
   ]
  },
  {
   "cell_type": "code",
   "execution_count": 20,
   "id": "cda7b09d-8364-4ec1-801d-b7d282e6b159",
   "metadata": {},
   "outputs": [],
   "source": [
    "import pandas as pd\n",
    "\n",
    "# Load preprocessed clinical data\n",
    "clinical_data_path = \"preprocessed_clinical_data.csv\"\n",
    "clinical_df = pd.read_csv(clinical_data_path, sep=\"\\t\")"
   ]
  },
  {
   "cell_type": "code",
   "execution_count": 21,
   "id": "75348dbc-8363-41bd-9970-e5ac7a805c7d",
   "metadata": {},
   "outputs": [
    {
     "name": "stdout",
     "output_type": "stream",
     "text": [
      "#genome_nexus_version: 1.0.2\n",
      "#isoform: mskcc\n",
      "Hugo_Symbol\tEntrez_Gene_Id\tCenter\tNCBI_Build\tChromosome\tStart_Position\tEnd_Position\tStrand\tConsequence\tVariant_Classification\tVariant_Type\tReference_Allele\tTumor_Seq_Allele1\tTumor_Seq_Allele2\tdbSNP_RS\tdbSNP_Val_Status\tTumor_Sample_Barcode\tMatched_Norm_Sample_Barcode\tMatch_Norm_Seq_Allele1\tMatch_Norm_Seq_Allele2\tTumor_Validation_Allele1\tTumor_Validation_Allele2\tMatch_Norm_Validation_Allele1\tMatch_Norm_Validation_Allele2\tVerification_Status\tValidation_Status\tMutation_Status\tSequencing_Phase\tSequence_Source\tValidation_Method\tScore\tBAM_File\tSequencer\tt_ref_count\tt_alt_count\tn_ref_count\tn_alt_count\tHGVSc\tHGVSp\tHGVSp_Short\tTranscript_ID\tRefSeq\tProtein_position\tCodons\tExon_Number\tgenomic_location_explanation\tAnnotation_Status\n",
      "UTS2\t10911\tBI\tGRCh38\t1\t7847808\t7847808\t+\tmissense_variant\tMissense_Mutation\tSNP\tC\tC\tG\t\t\tTCGA-2F-A9KO-01A\tTCGA-2F-A9KO-11A\t\t\t\t\t\t\t\t\tSomatic\t\t\t\t\t\t\t122\t26\t\t\tENST00000361696.10:c.333G>C\tp.Lys111Asn\tp.K111N\tENST00000361696\tNM_006786.4\t111\taaG/aaC\t4/4\t\tSUCCESS\n",
      "PRAMEF2\t65122\tBI\tGRCh38\t1\t12861625\t12861625\t+\tmissense_variant\tMissense_Mutation\tSNP\tG\tG\tA\trs775365832\t\tTCGA-2F-A9KO-01A\tTCGA-2F-A9KO-11A\t\t\t\t\t\t\t\t\tSomatic\t\t\t\t\t\t\t138\t26\t\t\tENST00000240189.2:c.1271G>A\tp.Arg424His\tp.R424H\tENST00000240189\tNM_023014.1\t424\tcGt/cAt\t4/4\t\tSUCCESS\n",
      "ARHGEF19\t128272\tBI\tGRCh38\t1\t16208035\t16208035\t+\tsynonymous_variant\tSilent\tSNP\tC\tC\tT\t\t\tTCGA-2F-A9KO-01A\tTCGA-2F-A9KO-11A\t\t\t\t\t\t\t\t\tSomatic\t\t\t\t\t\t\t36\t7\t\t\tENST00000270747.8:c.603G>A\tp.Leu201=\tp.L201=\tENST00000270747\tNM_153213.5\t201\tctG/ctA\t3/16\t\tSUCCESS\n"
     ]
    }
   ],
   "source": [
    "# Inspect the File\n",
    "with open(\"data_mutations.txt\", \"r\") as f:\n",
    "    for i, line in enumerate(f):\n",
    "        print(line.strip())\n",
    "        if i >= 5:  # Print only the first 5 lines\n",
    "            break"
   ]
  },
  {
   "cell_type": "code",
   "execution_count": 22,
   "id": "5026220f-01c3-4415-a329-797de82d8e6a",
   "metadata": {},
   "outputs": [
    {
     "name": "stdout",
     "output_type": "stream",
     "text": [
      "                              #genome_nexus_version:  1.0.2\n",
      "0                                          #isoform:  mskcc\n",
      "1  Hugo_Symbol\\tEntrez_Gene_Id\\tCenter\\tNCBI_Buil...   None\n",
      "2  UTS2\\t10911\\tBI\\tGRCh38\\t1\\t7847808\\t7847808\\t...   None\n",
      "3  PRAMEF2\\t65122\\tBI\\tGRCh38\\t1\\t12861625\\t12861...   None\n",
      "4  ARHGEF19\\t128272\\tBI\\tGRCh38\\t1\\t16208035\\t162...   None\n",
      "Shape of the dataset: (116686, 2)\n"
     ]
    }
   ],
   "source": [
    "import pandas as pd\n",
    "\n",
    "# Path to the mutation data file\n",
    "mutation_data_path = \"data_mutations.txt\"\n",
    "\n",
    "# Attempt to load the file with inferred delimiter and skipping bad lines\n",
    "try:\n",
    "    mutation_df = pd.read_csv(mutation_data_path, sep=None, engine=\"python\", on_bad_lines=\"skip\")\n",
    "except Exception as e:\n",
    "    print(f\"Error loading file: {e}\")\n",
    "    mutation_df = None\n",
    "\n",
    "# Inspect the loaded data\n",
    "if mutation_df is not None:\n",
    "    print(mutation_df.head())\n",
    "    print(\"Shape of the dataset:\", mutation_df.shape)\n",
    "else:\n",
    "    print(\"Failed to load the dataset.\")"
   ]
  },
  {
   "cell_type": "code",
   "execution_count": 23,
   "id": "ccdce2cd-752f-4c5b-818f-15de7ea593f1",
   "metadata": {},
   "outputs": [],
   "source": [
    "import pandas as pd\n",
    "\n",
    "# Load the file with flexible parsing\n",
    "mutation_data_path = \"data_mutations.txt\"\n",
    "try:\n",
    "    mutation_df = pd.read_csv(\n",
    "        mutation_data_path,\n",
    "        sep=\"\\t\",          # Assuming tab-delimited\n",
    "        comment=\"#\",       # Ignore lines starting with \"#\"\n",
    "        on_bad_lines=\"skip\"  # Skip problematic rows\n",
    "    )\n",
    "except Exception as e:\n",
    "    print(f\"Error loading file: {e}\")"
   ]
  },
  {
   "cell_type": "code",
   "execution_count": 24,
   "id": "7a0ee35f-532e-4e83-8632-c7fa593c91f2",
   "metadata": {},
   "outputs": [
    {
     "name": "stdout",
     "output_type": "stream",
     "text": [
      "  Hugo_Symbol  Entrez_Gene_Id Center NCBI_Build Chromosome  Start_Position  \\\n",
      "0        UTS2         10911.0     BI     GRCh38          1         7847808   \n",
      "1     PRAMEF2         65122.0     BI     GRCh38          1        12861625   \n",
      "2    ARHGEF19        128272.0     BI     GRCh38          1        16208035   \n",
      "3       PADI6        353238.0     BI     GRCh38          1        17372260   \n",
      "4     LDLRAD2        401944.0     BI     GRCh38          1        21815971   \n",
      "\n",
      "   End_Position Strand         Consequence Variant_Classification  ...  \\\n",
      "0       7847808      +    missense_variant      Missense_Mutation  ...   \n",
      "1      12861625      +    missense_variant      Missense_Mutation  ...   \n",
      "2      16208035      +  synonymous_variant                 Silent  ...   \n",
      "3      17372260      +    missense_variant      Missense_Mutation  ...   \n",
      "4      21815971      +  synonymous_variant                 Silent  ...   \n",
      "\n",
      "                         HGVSc        HGVSp HGVSp_Short    Transcript_ID  \\\n",
      "0  ENST00000361696.10:c.333G>C  p.Lys111Asn     p.K111N  ENST00000361696   \n",
      "1  ENST00000240189.2:c.1271G>A  p.Arg424His     p.R424H  ENST00000240189   \n",
      "2   ENST00000270747.8:c.603G>A    p.Leu201=     p.L201=  ENST00000270747   \n",
      "3    ENST00000619609.1:c.15G>C    p.Glu5Asp       p.E5D  ENST00000619609   \n",
      "4   ENST00000344642.7:c.540G>A    p.Gln180=     p.Q180=  ENST00000344642   \n",
      "\n",
      "           RefSeq  Protein_position   Codons Exon_Number  \\\n",
      "0     NM_006786.4             111.0  aaG/aaC         4/4   \n",
      "1     NM_023014.1             424.0  cGt/cAt         4/4   \n",
      "2     NM_153213.5             201.0  ctG/ctA        3/16   \n",
      "3     NM_207421.4               5.0  gaG/gaC        1/16   \n",
      "4  NM_001013693.3             180.0  caG/caA         3/5   \n",
      "\n",
      "   genomic_location_explanation  Annotation_Status  \n",
      "0                           NaN            SUCCESS  \n",
      "1                           NaN            SUCCESS  \n",
      "2                           NaN            SUCCESS  \n",
      "3                           NaN            SUCCESS  \n",
      "4                           NaN            SUCCESS  \n",
      "\n",
      "[5 rows x 47 columns]\n",
      "Hugo_Symbol                           0\n",
      "Entrez_Gene_Id                        1\n",
      "Center                                0\n",
      "NCBI_Build                            0\n",
      "Chromosome                            0\n",
      "Start_Position                        0\n",
      "End_Position                          0\n",
      "Strand                                0\n",
      "Consequence                           1\n",
      "Variant_Classification                0\n",
      "Variant_Type                          0\n",
      "Reference_Allele                      0\n",
      "Tumor_Seq_Allele1                     0\n",
      "Tumor_Seq_Allele2                     0\n",
      "dbSNP_RS                          83227\n",
      "dbSNP_Val_Status                 116684\n",
      "Tumor_Sample_Barcode                  0\n",
      "Matched_Norm_Sample_Barcode           0\n",
      "Match_Norm_Seq_Allele1           116684\n",
      "Match_Norm_Seq_Allele2           116684\n",
      "Tumor_Validation_Allele1         116684\n",
      "Tumor_Validation_Allele2         116684\n",
      "Match_Norm_Validation_Allele1    116684\n",
      "Match_Norm_Validation_Allele2    116684\n",
      "Verification_Status              116684\n",
      "Validation_Status                116684\n",
      "Mutation_Status                       0\n",
      "Sequencing_Phase                 116684\n",
      "Sequence_Source                  116684\n",
      "Validation_Method                116684\n",
      "Score                            116684\n",
      "BAM_File                         116684\n",
      "Sequencer                        116684\n",
      "t_ref_count                           0\n",
      "t_alt_count                           0\n",
      "n_ref_count                      116684\n",
      "n_alt_count                      116684\n",
      "HGVSc                               907\n",
      "HGVSp                              6103\n",
      "HGVSp_Short                        1221\n",
      "Transcript_ID                         1\n",
      "RefSeq                             9277\n",
      "Protein_position                   3899\n",
      "Codons                             5480\n",
      "Exon_Number                        3535\n",
      "genomic_location_explanation     116684\n",
      "Annotation_Status                     0\n",
      "dtype: int64\n",
      "Index(['Hugo_Symbol', 'Entrez_Gene_Id', 'Center', 'NCBI_Build', 'Chromosome',\n",
      "       'Start_Position', 'End_Position', 'Strand', 'Consequence',\n",
      "       'Variant_Classification', 'Variant_Type', 'Reference_Allele',\n",
      "       'Tumor_Seq_Allele1', 'Tumor_Seq_Allele2', 'dbSNP_RS',\n",
      "       'dbSNP_Val_Status', 'Tumor_Sample_Barcode',\n",
      "       'Matched_Norm_Sample_Barcode', 'Match_Norm_Seq_Allele1',\n",
      "       'Match_Norm_Seq_Allele2', 'Tumor_Validation_Allele1',\n",
      "       'Tumor_Validation_Allele2', 'Match_Norm_Validation_Allele1',\n",
      "       'Match_Norm_Validation_Allele2', 'Verification_Status',\n",
      "       'Validation_Status', 'Mutation_Status', 'Sequencing_Phase',\n",
      "       'Sequence_Source', 'Validation_Method', 'Score', 'BAM_File',\n",
      "       'Sequencer', 't_ref_count', 't_alt_count', 'n_ref_count', 'n_alt_count',\n",
      "       'HGVSc', 'HGVSp', 'HGVSp_Short', 'Transcript_ID', 'RefSeq',\n",
      "       'Protein_position', 'Codons', 'Exon_Number',\n",
      "       'genomic_location_explanation', 'Annotation_Status'],\n",
      "      dtype='object')\n"
     ]
    }
   ],
   "source": [
    "# Display the first few rows\n",
    "print(mutation_df.head())\n",
    "\n",
    "# Check for missing values\n",
    "print(mutation_df.isnull().sum())\n",
    "\n",
    "# Check column names\n",
    "print(mutation_df.columns)"
   ]
  },
  {
   "cell_type": "code",
   "execution_count": 25,
   "id": "775fd8e4-7938-4a98-8f33-e8d5a842ed18",
   "metadata": {},
   "outputs": [],
   "source": [
    "filtered_df = mutation_df[mutation_df[\"Variant_Classification\"] == \"Missense_Mutation\"]"
   ]
  },
  {
   "cell_type": "code",
   "execution_count": 26,
   "id": "c0f7cd04-153d-43e3-82da-a82675889dad",
   "metadata": {},
   "outputs": [],
   "source": [
    "gene_counts = mutation_df[\"Hugo_Symbol\"].value_counts()"
   ]
  },
  {
   "cell_type": "code",
   "execution_count": 27,
   "id": "3492c80f-809e-40e0-b2a2-66d3ba92ae5f",
   "metadata": {},
   "outputs": [
    {
     "name": "stdout",
     "output_type": "stream",
     "text": [
      "Hugo_Symbol\n",
      "TTN       463\n",
      "TP53      232\n",
      "MUC16     203\n",
      "KMT2D     151\n",
      "ARID1A    129\n",
      "KDM6A     117\n",
      "MACF1     115\n",
      "SYNE1     113\n",
      "KMT2C     101\n",
      "RYR2       98\n",
      "Name: count, dtype: int64\n"
     ]
    }
   ],
   "source": [
    "# Count mutations per gene\n",
    "gene_counts = mutation_df[\"Hugo_Symbol\"].value_counts()\n",
    "\n",
    "# Display top 10 genes\n",
    "print(gene_counts.head(10))"
   ]
  },
  {
   "cell_type": "code",
   "execution_count": 28,
   "id": "c8f2153d-0677-40ff-bc51-cf561990120b",
   "metadata": {},
   "outputs": [
    {
     "name": "stdout",
     "output_type": "stream",
     "text": [
      "Consequence\n",
      "missense_variant                            70850\n",
      "synonymous_variant                          27900\n",
      "stop_gained                                  6838\n",
      "frameshift_variant                           1981\n",
      "missense_variant,splice_region_variant       1743\n",
      "non_coding_transcript_exon_variant           1129\n",
      "splice_acceptor_variant                      1026\n",
      "intron_variant                                992\n",
      "splice_region_variant,synonymous_variant      616\n",
      "downstream_gene_variant                       483\n",
      "Name: count, dtype: int64\n"
     ]
    }
   ],
   "source": [
    "# Count occurrences of each consequence\n",
    "consequence_counts = mutation_df[\"Consequence\"].value_counts()\n",
    "\n",
    "# Display top 10 consequences\n",
    "print(consequence_counts.head(10))"
   ]
  },
  {
   "cell_type": "markdown",
   "id": "5fd53368-4c82-4cee-a8ed-fee23fecee29",
   "metadata": {},
   "source": [
    "### merge clinical and genomic datasets"
   ]
  },
  {
   "cell_type": "code",
   "execution_count": 48,
   "id": "fec6cc0e-8ed3-43a7-be92-84f744be326f",
   "metadata": {},
   "outputs": [],
   "source": [
    "import pandas as pd\n",
    "\n",
    "# Define file paths\n",
    "patient_data_path = \"data_clinical_patient.txt\"\n",
    "sample_data_path = \"data_clinical_sample.txt\"\n",
    "mutation_data_path = \"data_mutations.txt\"\n",
    "cna_data_path = \"data_cna.txt\"\n",
    "\n",
    "# Load the datasets\n",
    "patient_df = pd.read_csv(patient_data_path, sep=\"\\t\", comment=\"#\")\n",
    "sample_df = pd.read_csv(sample_data_path, sep=\"\\t\", comment=\"#\")\n",
    "mutation_df = pd.read_csv(mutation_data_path, sep=\"\\t\", comment=\"#\")\n",
    "\n",
    "# Load CNA data and transpose it\n",
    "cna_df = pd.read_csv(cna_data_path, sep=\"\\t\")\n",
    "cna_df = cna_df.set_index(\"Entrez_Gene_Id\").T.reset_index()\n",
    "cna_df.rename(columns={\"index\": \"SAMPLE_ID\"}, inplace=True)"
   ]
  },
  {
   "cell_type": "code",
   "execution_count": 49,
   "id": "83f026f4-ebe1-4e6f-b825-efbe912a9bf1",
   "metadata": {},
   "outputs": [],
   "source": [
    "# Merge clinical patient and sample data\n",
    "merged_df = pd.merge(patient_df, sample_df, on=\"PATIENT_ID\", how=\"inner\")"
   ]
  },
  {
   "cell_type": "code",
   "execution_count": 50,
   "id": "766c791d-e880-4f5a-9d23-d30669505917",
   "metadata": {
    "scrolled": true
   },
   "outputs": [
    {
     "ename": "MemoryError",
     "evalue": "Unable to allocate 25.5 GiB for an array with shape (38321, 89144) and data type float64",
     "output_type": "error",
     "traceback": [
      "\u001b[1;31m---------------------------------------------------------------------------\u001b[0m",
      "\u001b[1;31mMemoryError\u001b[0m                               Traceback (most recent call last)",
      "Cell \u001b[1;32mIn[50], line 5\u001b[0m\n\u001b[0;32m      2\u001b[0m merged_df \u001b[38;5;241m=\u001b[39m pd\u001b[38;5;241m.\u001b[39mmerge(merged_df, mutation_df, left_on\u001b[38;5;241m=\u001b[39m\u001b[38;5;124m\"\u001b[39m\u001b[38;5;124mSAMPLE_ID\u001b[39m\u001b[38;5;124m\"\u001b[39m, right_on\u001b[38;5;241m=\u001b[39m\u001b[38;5;124m\"\u001b[39m\u001b[38;5;124mTumor_Sample_Barcode\u001b[39m\u001b[38;5;124m\"\u001b[39m, how\u001b[38;5;241m=\u001b[39m\u001b[38;5;124m\"\u001b[39m\u001b[38;5;124mleft\u001b[39m\u001b[38;5;124m\"\u001b[39m)\n\u001b[0;32m      4\u001b[0m \u001b[38;5;66;03m# Merge CNA data\u001b[39;00m\n\u001b[1;32m----> 5\u001b[0m merged_df \u001b[38;5;241m=\u001b[39m \u001b[43mpd\u001b[49m\u001b[38;5;241;43m.\u001b[39;49m\u001b[43mmerge\u001b[49m\u001b[43m(\u001b[49m\u001b[43mmerged_df\u001b[49m\u001b[43m,\u001b[49m\u001b[43m \u001b[49m\u001b[43mcna_df\u001b[49m\u001b[43m,\u001b[49m\u001b[43m \u001b[49m\u001b[43mon\u001b[49m\u001b[38;5;241;43m=\u001b[39;49m\u001b[38;5;124;43m\"\u001b[39;49m\u001b[38;5;124;43mSAMPLE_ID\u001b[39;49m\u001b[38;5;124;43m\"\u001b[39;49m\u001b[43m,\u001b[49m\u001b[43m \u001b[49m\u001b[43mhow\u001b[49m\u001b[38;5;241;43m=\u001b[39;49m\u001b[38;5;124;43m\"\u001b[39;49m\u001b[38;5;124;43mleft\u001b[39;49m\u001b[38;5;124;43m\"\u001b[39;49m\u001b[43m)\u001b[49m\n",
      "File \u001b[1;32m~\\AppData\\Local\\Programs\\Python\\Python312\\Lib\\site-packages\\pandas\\core\\reshape\\merge.py:184\u001b[0m, in \u001b[0;36mmerge\u001b[1;34m(left, right, how, on, left_on, right_on, left_index, right_index, sort, suffixes, copy, indicator, validate)\u001b[0m\n\u001b[0;32m    169\u001b[0m \u001b[38;5;28;01melse\u001b[39;00m:\n\u001b[0;32m    170\u001b[0m     op \u001b[38;5;241m=\u001b[39m _MergeOperation(\n\u001b[0;32m    171\u001b[0m         left_df,\n\u001b[0;32m    172\u001b[0m         right_df,\n\u001b[1;32m   (...)\u001b[0m\n\u001b[0;32m    182\u001b[0m         validate\u001b[38;5;241m=\u001b[39mvalidate,\n\u001b[0;32m    183\u001b[0m     )\n\u001b[1;32m--> 184\u001b[0m     \u001b[38;5;28;01mreturn\u001b[39;00m \u001b[43mop\u001b[49m\u001b[38;5;241;43m.\u001b[39;49m\u001b[43mget_result\u001b[49m\u001b[43m(\u001b[49m\u001b[43mcopy\u001b[49m\u001b[38;5;241;43m=\u001b[39;49m\u001b[43mcopy\u001b[49m\u001b[43m)\u001b[49m\n",
      "File \u001b[1;32m~\\AppData\\Local\\Programs\\Python\\Python312\\Lib\\site-packages\\pandas\\core\\reshape\\merge.py:888\u001b[0m, in \u001b[0;36m_MergeOperation.get_result\u001b[1;34m(self, copy)\u001b[0m\n\u001b[0;32m    884\u001b[0m     \u001b[38;5;28mself\u001b[39m\u001b[38;5;241m.\u001b[39mleft, \u001b[38;5;28mself\u001b[39m\u001b[38;5;241m.\u001b[39mright \u001b[38;5;241m=\u001b[39m \u001b[38;5;28mself\u001b[39m\u001b[38;5;241m.\u001b[39m_indicator_pre_merge(\u001b[38;5;28mself\u001b[39m\u001b[38;5;241m.\u001b[39mleft, \u001b[38;5;28mself\u001b[39m\u001b[38;5;241m.\u001b[39mright)\n\u001b[0;32m    886\u001b[0m join_index, left_indexer, right_indexer \u001b[38;5;241m=\u001b[39m \u001b[38;5;28mself\u001b[39m\u001b[38;5;241m.\u001b[39m_get_join_info()\n\u001b[1;32m--> 888\u001b[0m result \u001b[38;5;241m=\u001b[39m \u001b[38;5;28;43mself\u001b[39;49m\u001b[38;5;241;43m.\u001b[39;49m\u001b[43m_reindex_and_concat\u001b[49m\u001b[43m(\u001b[49m\n\u001b[0;32m    889\u001b[0m \u001b[43m    \u001b[49m\u001b[43mjoin_index\u001b[49m\u001b[43m,\u001b[49m\u001b[43m \u001b[49m\u001b[43mleft_indexer\u001b[49m\u001b[43m,\u001b[49m\u001b[43m \u001b[49m\u001b[43mright_indexer\u001b[49m\u001b[43m,\u001b[49m\u001b[43m \u001b[49m\u001b[43mcopy\u001b[49m\u001b[38;5;241;43m=\u001b[39;49m\u001b[43mcopy\u001b[49m\n\u001b[0;32m    890\u001b[0m \u001b[43m\u001b[49m\u001b[43m)\u001b[49m\n\u001b[0;32m    891\u001b[0m result \u001b[38;5;241m=\u001b[39m result\u001b[38;5;241m.\u001b[39m__finalize__(\u001b[38;5;28mself\u001b[39m, method\u001b[38;5;241m=\u001b[39m\u001b[38;5;28mself\u001b[39m\u001b[38;5;241m.\u001b[39m_merge_type)\n\u001b[0;32m    893\u001b[0m \u001b[38;5;28;01mif\u001b[39;00m \u001b[38;5;28mself\u001b[39m\u001b[38;5;241m.\u001b[39mindicator:\n",
      "File \u001b[1;32m~\\AppData\\Local\\Programs\\Python\\Python312\\Lib\\site-packages\\pandas\\core\\reshape\\merge.py:863\u001b[0m, in \u001b[0;36m_MergeOperation._reindex_and_concat\u001b[1;34m(self, join_index, left_indexer, right_indexer, copy)\u001b[0m\n\u001b[0;32m    858\u001b[0m left\u001b[38;5;241m.\u001b[39mindex \u001b[38;5;241m=\u001b[39m join_index\n\u001b[0;32m    860\u001b[0m \u001b[38;5;28;01mif\u001b[39;00m right_indexer \u001b[38;5;129;01mis\u001b[39;00m \u001b[38;5;129;01mnot\u001b[39;00m \u001b[38;5;28;01mNone\u001b[39;00m \u001b[38;5;129;01mand\u001b[39;00m \u001b[38;5;129;01mnot\u001b[39;00m is_range_indexer(\n\u001b[0;32m    861\u001b[0m     right_indexer, \u001b[38;5;28mlen\u001b[39m(right)\n\u001b[0;32m    862\u001b[0m ):\n\u001b[1;32m--> 863\u001b[0m     rmgr \u001b[38;5;241m=\u001b[39m \u001b[43mright\u001b[49m\u001b[38;5;241;43m.\u001b[39;49m\u001b[43m_mgr\u001b[49m\u001b[38;5;241;43m.\u001b[39;49m\u001b[43mreindex_indexer\u001b[49m\u001b[43m(\u001b[49m\n\u001b[0;32m    864\u001b[0m \u001b[43m        \u001b[49m\u001b[43mjoin_index\u001b[49m\u001b[43m,\u001b[49m\n\u001b[0;32m    865\u001b[0m \u001b[43m        \u001b[49m\u001b[43mright_indexer\u001b[49m\u001b[43m,\u001b[49m\n\u001b[0;32m    866\u001b[0m \u001b[43m        \u001b[49m\u001b[43maxis\u001b[49m\u001b[38;5;241;43m=\u001b[39;49m\u001b[38;5;241;43m1\u001b[39;49m\u001b[43m,\u001b[49m\n\u001b[0;32m    867\u001b[0m \u001b[43m        \u001b[49m\u001b[43mcopy\u001b[49m\u001b[38;5;241;43m=\u001b[39;49m\u001b[38;5;28;43;01mFalse\u001b[39;49;00m\u001b[43m,\u001b[49m\n\u001b[0;32m    868\u001b[0m \u001b[43m        \u001b[49m\u001b[43monly_slice\u001b[49m\u001b[38;5;241;43m=\u001b[39;49m\u001b[38;5;28;43;01mTrue\u001b[39;49;00m\u001b[43m,\u001b[49m\n\u001b[0;32m    869\u001b[0m \u001b[43m        \u001b[49m\u001b[43mallow_dups\u001b[49m\u001b[38;5;241;43m=\u001b[39;49m\u001b[38;5;28;43;01mTrue\u001b[39;49;00m\u001b[43m,\u001b[49m\n\u001b[0;32m    870\u001b[0m \u001b[43m        \u001b[49m\u001b[43muse_na_proxy\u001b[49m\u001b[38;5;241;43m=\u001b[39;49m\u001b[38;5;28;43;01mTrue\u001b[39;49;00m\u001b[43m,\u001b[49m\n\u001b[0;32m    871\u001b[0m \u001b[43m    \u001b[49m\u001b[43m)\u001b[49m\n\u001b[0;32m    872\u001b[0m     right \u001b[38;5;241m=\u001b[39m right\u001b[38;5;241m.\u001b[39m_constructor_from_mgr(rmgr, axes\u001b[38;5;241m=\u001b[39mrmgr\u001b[38;5;241m.\u001b[39maxes)\n\u001b[0;32m    873\u001b[0m right\u001b[38;5;241m.\u001b[39mindex \u001b[38;5;241m=\u001b[39m join_index\n",
      "File \u001b[1;32m~\\AppData\\Local\\Programs\\Python\\Python312\\Lib\\site-packages\\pandas\\core\\internals\\managers.py:688\u001b[0m, in \u001b[0;36mBaseBlockManager.reindex_indexer\u001b[1;34m(self, new_axis, indexer, axis, fill_value, allow_dups, copy, only_slice, use_na_proxy)\u001b[0m\n\u001b[0;32m    680\u001b[0m     new_blocks \u001b[38;5;241m=\u001b[39m \u001b[38;5;28mself\u001b[39m\u001b[38;5;241m.\u001b[39m_slice_take_blocks_ax0(\n\u001b[0;32m    681\u001b[0m         indexer,\n\u001b[0;32m    682\u001b[0m         fill_value\u001b[38;5;241m=\u001b[39mfill_value,\n\u001b[0;32m    683\u001b[0m         only_slice\u001b[38;5;241m=\u001b[39monly_slice,\n\u001b[0;32m    684\u001b[0m         use_na_proxy\u001b[38;5;241m=\u001b[39muse_na_proxy,\n\u001b[0;32m    685\u001b[0m     )\n\u001b[0;32m    686\u001b[0m \u001b[38;5;28;01melse\u001b[39;00m:\n\u001b[0;32m    687\u001b[0m     new_blocks \u001b[38;5;241m=\u001b[39m [\n\u001b[1;32m--> 688\u001b[0m         \u001b[43mblk\u001b[49m\u001b[38;5;241;43m.\u001b[39;49m\u001b[43mtake_nd\u001b[49m\u001b[43m(\u001b[49m\n\u001b[0;32m    689\u001b[0m \u001b[43m            \u001b[49m\u001b[43mindexer\u001b[49m\u001b[43m,\u001b[49m\n\u001b[0;32m    690\u001b[0m \u001b[43m            \u001b[49m\u001b[43maxis\u001b[49m\u001b[38;5;241;43m=\u001b[39;49m\u001b[38;5;241;43m1\u001b[39;49m\u001b[43m,\u001b[49m\n\u001b[0;32m    691\u001b[0m \u001b[43m            \u001b[49m\u001b[43mfill_value\u001b[49m\u001b[38;5;241;43m=\u001b[39;49m\u001b[43m(\u001b[49m\n\u001b[0;32m    692\u001b[0m \u001b[43m                \u001b[49m\u001b[43mfill_value\u001b[49m\u001b[43m \u001b[49m\u001b[38;5;28;43;01mif\u001b[39;49;00m\u001b[43m \u001b[49m\u001b[43mfill_value\u001b[49m\u001b[43m \u001b[49m\u001b[38;5;129;43;01mis\u001b[39;49;00m\u001b[43m \u001b[49m\u001b[38;5;129;43;01mnot\u001b[39;49;00m\u001b[43m \u001b[49m\u001b[38;5;28;43;01mNone\u001b[39;49;00m\u001b[43m \u001b[49m\u001b[38;5;28;43;01melse\u001b[39;49;00m\u001b[43m \u001b[49m\u001b[43mblk\u001b[49m\u001b[38;5;241;43m.\u001b[39;49m\u001b[43mfill_value\u001b[49m\n\u001b[0;32m    693\u001b[0m \u001b[43m            \u001b[49m\u001b[43m)\u001b[49m\u001b[43m,\u001b[49m\n\u001b[0;32m    694\u001b[0m \u001b[43m        \u001b[49m\u001b[43m)\u001b[49m\n\u001b[0;32m    695\u001b[0m         \u001b[38;5;28;01mfor\u001b[39;00m blk \u001b[38;5;129;01min\u001b[39;00m \u001b[38;5;28mself\u001b[39m\u001b[38;5;241m.\u001b[39mblocks\n\u001b[0;32m    696\u001b[0m     ]\n\u001b[0;32m    698\u001b[0m new_axes \u001b[38;5;241m=\u001b[39m \u001b[38;5;28mlist\u001b[39m(\u001b[38;5;28mself\u001b[39m\u001b[38;5;241m.\u001b[39maxes)\n\u001b[0;32m    699\u001b[0m new_axes[axis] \u001b[38;5;241m=\u001b[39m new_axis\n",
      "File \u001b[1;32m~\\AppData\\Local\\Programs\\Python\\Python312\\Lib\\site-packages\\pandas\\core\\internals\\blocks.py:1307\u001b[0m, in \u001b[0;36mBlock.take_nd\u001b[1;34m(self, indexer, axis, new_mgr_locs, fill_value)\u001b[0m\n\u001b[0;32m   1304\u001b[0m     allow_fill \u001b[38;5;241m=\u001b[39m \u001b[38;5;28;01mTrue\u001b[39;00m\n\u001b[0;32m   1306\u001b[0m \u001b[38;5;66;03m# Note: algos.take_nd has upcast logic similar to coerce_to_target_dtype\u001b[39;00m\n\u001b[1;32m-> 1307\u001b[0m new_values \u001b[38;5;241m=\u001b[39m \u001b[43malgos\u001b[49m\u001b[38;5;241;43m.\u001b[39;49m\u001b[43mtake_nd\u001b[49m\u001b[43m(\u001b[49m\n\u001b[0;32m   1308\u001b[0m \u001b[43m    \u001b[49m\u001b[43mvalues\u001b[49m\u001b[43m,\u001b[49m\u001b[43m \u001b[49m\u001b[43mindexer\u001b[49m\u001b[43m,\u001b[49m\u001b[43m \u001b[49m\u001b[43maxis\u001b[49m\u001b[38;5;241;43m=\u001b[39;49m\u001b[43maxis\u001b[49m\u001b[43m,\u001b[49m\u001b[43m \u001b[49m\u001b[43mallow_fill\u001b[49m\u001b[38;5;241;43m=\u001b[39;49m\u001b[43mallow_fill\u001b[49m\u001b[43m,\u001b[49m\u001b[43m \u001b[49m\u001b[43mfill_value\u001b[49m\u001b[38;5;241;43m=\u001b[39;49m\u001b[43mfill_value\u001b[49m\n\u001b[0;32m   1309\u001b[0m \u001b[43m\u001b[49m\u001b[43m)\u001b[49m\n\u001b[0;32m   1311\u001b[0m \u001b[38;5;66;03m# Called from three places in managers, all of which satisfy\u001b[39;00m\n\u001b[0;32m   1312\u001b[0m \u001b[38;5;66;03m#  these assertions\u001b[39;00m\n\u001b[0;32m   1313\u001b[0m \u001b[38;5;28;01mif\u001b[39;00m \u001b[38;5;28misinstance\u001b[39m(\u001b[38;5;28mself\u001b[39m, ExtensionBlock):\n\u001b[0;32m   1314\u001b[0m     \u001b[38;5;66;03m# NB: in this case, the 'axis' kwarg will be ignored in the\u001b[39;00m\n\u001b[0;32m   1315\u001b[0m     \u001b[38;5;66;03m#  algos.take_nd call above.\u001b[39;00m\n",
      "File \u001b[1;32m~\\AppData\\Local\\Programs\\Python\\Python312\\Lib\\site-packages\\pandas\\core\\array_algos\\take.py:117\u001b[0m, in \u001b[0;36mtake_nd\u001b[1;34m(arr, indexer, axis, fill_value, allow_fill)\u001b[0m\n\u001b[0;32m    114\u001b[0m     \u001b[38;5;28;01mreturn\u001b[39;00m arr\u001b[38;5;241m.\u001b[39mtake(indexer, fill_value\u001b[38;5;241m=\u001b[39mfill_value, allow_fill\u001b[38;5;241m=\u001b[39mallow_fill)\n\u001b[0;32m    116\u001b[0m arr \u001b[38;5;241m=\u001b[39m np\u001b[38;5;241m.\u001b[39masarray(arr)\n\u001b[1;32m--> 117\u001b[0m \u001b[38;5;28;01mreturn\u001b[39;00m \u001b[43m_take_nd_ndarray\u001b[49m\u001b[43m(\u001b[49m\u001b[43marr\u001b[49m\u001b[43m,\u001b[49m\u001b[43m \u001b[49m\u001b[43mindexer\u001b[49m\u001b[43m,\u001b[49m\u001b[43m \u001b[49m\u001b[43maxis\u001b[49m\u001b[43m,\u001b[49m\u001b[43m \u001b[49m\u001b[43mfill_value\u001b[49m\u001b[43m,\u001b[49m\u001b[43m \u001b[49m\u001b[43mallow_fill\u001b[49m\u001b[43m)\u001b[49m\n",
      "File \u001b[1;32m~\\AppData\\Local\\Programs\\Python\\Python312\\Lib\\site-packages\\pandas\\core\\array_algos\\take.py:157\u001b[0m, in \u001b[0;36m_take_nd_ndarray\u001b[1;34m(arr, indexer, axis, fill_value, allow_fill)\u001b[0m\n\u001b[0;32m    155\u001b[0m     out \u001b[38;5;241m=\u001b[39m np\u001b[38;5;241m.\u001b[39mempty(out_shape, dtype\u001b[38;5;241m=\u001b[39mdtype, order\u001b[38;5;241m=\u001b[39m\u001b[38;5;124m\"\u001b[39m\u001b[38;5;124mF\u001b[39m\u001b[38;5;124m\"\u001b[39m)\n\u001b[0;32m    156\u001b[0m \u001b[38;5;28;01melse\u001b[39;00m:\n\u001b[1;32m--> 157\u001b[0m     out \u001b[38;5;241m=\u001b[39m \u001b[43mnp\u001b[49m\u001b[38;5;241;43m.\u001b[39;49m\u001b[43mempty\u001b[49m\u001b[43m(\u001b[49m\u001b[43mout_shape\u001b[49m\u001b[43m,\u001b[49m\u001b[43m \u001b[49m\u001b[43mdtype\u001b[49m\u001b[38;5;241;43m=\u001b[39;49m\u001b[43mdtype\u001b[49m\u001b[43m)\u001b[49m\n\u001b[0;32m    159\u001b[0m func \u001b[38;5;241m=\u001b[39m _get_take_nd_function(\n\u001b[0;32m    160\u001b[0m     arr\u001b[38;5;241m.\u001b[39mndim, arr\u001b[38;5;241m.\u001b[39mdtype, out\u001b[38;5;241m.\u001b[39mdtype, axis\u001b[38;5;241m=\u001b[39maxis, mask_info\u001b[38;5;241m=\u001b[39mmask_info\n\u001b[0;32m    161\u001b[0m )\n\u001b[0;32m    162\u001b[0m func(arr, indexer, out, fill_value)\n",
      "\u001b[1;31mMemoryError\u001b[0m: Unable to allocate 25.5 GiB for an array with shape (38321, 89144) and data type float64"
     ]
    }
   ],
   "source": [
    "# Merge mutation data\n",
    "merged_df = pd.merge(merged_df, mutation_df, left_on=\"SAMPLE_ID\", right_on=\"Tumor_Sample_Barcode\", how=\"left\")\n",
    "\n",
    "# Merge CNA data\n",
    "merged_df = pd.merge(merged_df, cna_df, on=\"SAMPLE_ID\", how=\"left\")"
   ]
  },
  {
   "cell_type": "markdown",
   "id": "c74d101f-d1d9-4c24-b231-a1ab0f69b3a0",
   "metadata": {},
   "source": [
    "#### The error we are encountering:\n",
    "#### MemoryError: Unable to allocate 25.5 GiB for an array with shape (38321, 89144) and data type float64 indicates that your system is running out of memory while attempting to merge the CNA data (cna_df) with the existing merged_df. This issue arises because merging large datasets creates intermediate arrays in memory, which can exceed the available RAM."
   ]
  },
  {
   "cell_type": "code",
   "execution_count": 61,
   "id": "9d325a77-4f55-4c89-8094-1ea66ff20c7b",
   "metadata": {},
   "outputs": [],
   "source": [
    "from sklearn.preprocessing import OneHotEncoder\n",
    "\n",
    "# Use sparse_output=True to generate a sparse matrix\n",
    "encoder = OneHotEncoder(sparse_output=True)\n",
    "encoded_categorical = encoder.fit_transform(data.select_dtypes(include=[\"object\"]))\n",
    "\n",
    "# Convert sparse matrix to DataFrame\n",
    "encoded_df = pd.DataFrame.sparse.from_spmatrix(\n",
    "    encoded_categorical,\n",
    "    columns=encoder.get_feature_names_out(data.select_dtypes(include=[\"object\"]).columns)\n",
    ")\n",
    "\n",
    "# Concatenate encoded data with the original DataFrame\n",
    "data = pd.concat([data.select_dtypes(exclude=[\"object\"]), encoded_df], axis=1)"
   ]
  },
  {
   "cell_type": "code",
   "execution_count": 63,
   "id": "afda898d-462f-4753-8dab-2c960c04bcdb",
   "metadata": {
    "scrolled": true
   },
   "outputs": [],
   "source": [
    "# Load CNA data without transposing\n",
    "cna_data_path = r\"C:\\Users\\RAMAVATH SANTHOSH\\OneDrive\\Documents\\ALL SEMs\\SEM6\\FINAL_DISSERTATION_WORK\\Datasets\\blca_tcga_gdc\\data_cna.txt\"\n",
    "\n",
    "# Use chunking to process the file\n",
    "chunk_size = 1000  # Define chunk size based on available memory\n",
    "chunks = []\n",
    "\n",
    "for chunk in pd.read_csv(cna_data_path, sep=\"\\t\", chunksize=chunk_size):\n",
    "    # Set Entrez_Gene_Id as the index\n",
    "    chunk.set_index(\"Entrez_Gene_Id\", inplace=True)\n",
    "    chunks.append(chunk)\n",
    "\n",
    "# Combine all chunks into a single DataFrame\n",
    "cna_df = pd.concat(chunks, axis=0)"
   ]
  },
  {
   "cell_type": "code",
   "execution_count": 64,
   "id": "6a303fee-a45a-4eef-9925-d506b79846ad",
   "metadata": {},
   "outputs": [],
   "source": [
    "# List of relevant genes\n",
    "relevant_genes = [\"PIK3CA\", \"TP53\", \"TTN\"]  # Add more genes as needed\n",
    "\n",
    "# Load only relevant rows\n",
    "cna_data_path = r\"C:\\Users\\RAMAVATH SANTHOSH\\OneDrive\\Documents\\ALL SEMs\\SEM6\\FINAL_DISSERTATION_WORK\\Datasets\\blca_tcga_gdc\\data_cna.txt\"\n",
    "\n",
    "# Use chunking to process the file\n",
    "chunk_size = 1000\n",
    "chunks = []\n",
    "\n",
    "for chunk in pd.read_csv(cna_data_path, sep=\"\\t\", chunksize=chunk_size):\n",
    "    # Filter rows for relevant genes\n",
    "    filtered_chunk = chunk[chunk[\"Entrez_Gene_Id\"].isin(relevant_genes)]\n",
    "    chunks.append(filtered_chunk)\n",
    "\n",
    "# Combine all chunks into a single DataFrame\n",
    "cna_df = pd.concat(chunks, axis=0)"
   ]
  },
  {
   "cell_type": "code",
   "execution_count": 65,
   "id": "3e98d349-5b44-426e-acdd-b7e712858ca3",
   "metadata": {},
   "outputs": [],
   "source": [
    "from scipy.sparse import csr_matrix\n",
    "\n",
    "# Load CNA data in chunks and convert to sparse format\n",
    "cna_data_path = r\"C:\\Users\\RAMAVATH SANTHOSH\\OneDrive\\Documents\\ALL SEMs\\SEM6\\FINAL_DISSERTATION_WORK\\Datasets\\blca_tcga_gdc\\data_cna.txt\"\n",
    "chunk_size = 1000\n",
    "sparse_chunks = []\n",
    "\n",
    "for chunk in pd.read_csv(cna_data_path, sep=\"\\t\", chunksize=chunk_size):\n",
    "    # Convert chunk to sparse matrix\n",
    "    sparse_chunk = csr_matrix(chunk.drop(columns=[\"Entrez_Gene_Id\"]).values)\n",
    "    sparse_chunks.append(sparse_chunk)\n",
    "\n",
    "# Combine sparse chunks into a single sparse matrix\n",
    "from scipy.sparse import vstack\n",
    "cna_sparse = vstack(sparse_chunks)"
   ]
  },
  {
   "cell_type": "code",
   "execution_count": 66,
   "id": "2506b106-d80c-4d29-8b7c-cc47ee77aa49",
   "metadata": {},
   "outputs": [
    {
     "name": "stdout",
     "output_type": "stream",
     "text": [
      "Sparse matrix saved to: C:\\Users\\RAMAVATH SANTHOSH\\OneDrive\\Documents\\ALL SEMs\\SEM6\\FINAL_DISSERTATION_WORK\\Datasets\\blca_tcga_gdc\\cna_sparse_matrix.npz\n"
     ]
    }
   ],
   "source": [
    "import scipy.sparse\n",
    "\n",
    "# Save the sparse matrix to a file\n",
    "sparse_matrix_path = r\"C:\\Users\\RAMAVATH SANTHOSH\\OneDrive\\Documents\\ALL SEMs\\SEM6\\FINAL_DISSERTATION_WORK\\Datasets\\blca_tcga_gdc\\cna_sparse_matrix.npz\"\n",
    "scipy.sparse.save_npz(sparse_matrix_path, cna_sparse)\n",
    "\n",
    "print(f\"Sparse matrix saved to: {sparse_matrix_path}\")"
   ]
  },
  {
   "cell_type": "code",
   "execution_count": 67,
   "id": "2ab1ab4a-38e4-4a5a-bc2d-c55c0bd7891e",
   "metadata": {},
   "outputs": [],
   "source": [
    "cna_sparse = scipy.sparse.load_npz(sparse_matrix_path)"
   ]
  },
  {
   "cell_type": "code",
   "execution_count": 68,
   "id": "fd7e151d-42fd-4f93-9e8c-96cb4c181c8b",
   "metadata": {},
   "outputs": [],
   "source": [
    "gene_ids = []\n",
    "\n",
    "for chunk in pd.read_csv(cna_data_path, sep=\"\\t\", chunksize=chunk_size):\n",
    "    gene_ids.extend(chunk[\"Entrez_Gene_Id\"].tolist())\n",
    "    sparse_chunk = csr_matrix(chunk.drop(columns=[\"Entrez_Gene_Id\"]).values)\n",
    "    sparse_chunks.append(sparse_chunk)\n",
    "\n",
    "# Combine sparse chunks\n",
    "cna_sparse = vstack(sparse_chunks)\n",
    "\n",
    "# Convert gene IDs to a DataFrame\n",
    "gene_df = pd.DataFrame({\"Entrez_Gene_Id\": gene_ids})"
   ]
  },
  {
   "cell_type": "code",
   "execution_count": 70,
   "id": "a6f15da1-ea92-45bc-80e9-723229157783",
   "metadata": {},
   "outputs": [
    {
     "name": "stdout",
     "output_type": "stream",
     "text": [
      "Clinical Sample IDs: 413\n",
      "CNA Sample IDs: 392\n",
      "Mismatched Sample IDs: {'TCGA-G2-A2EC-01A', 'TCGA-DK-A2I2-01A', 'TCGA-E5-A4TZ-01A', 'TCGA-DK-A1AG-01A', 'TCGA-UY-A78P-01A', 'TCGA-E7-A8O8-01A', 'TCGA-DK-A3IM-01A', 'TCGA-DK-AA6P-01A', 'TCGA-FD-A43N-01A', 'TCGA-DK-A3IV-01A', 'TCGA-C4-A0F7-01A', 'TCGA-C4-A0F1-01A', 'TCGA-XF-A8HE-01A', 'TCGA-GV-A3QH-01A', 'TCGA-DK-A2I6-01A', 'TCGA-DK-A3IN-01A', 'TCGA-BT-A2LD-01A', 'TCGA-C4-A0F0-01A', 'TCGA-DK-A3IU-01A', 'TCGA-UY-A78M-01A', 'TCGA-GC-A4ZW-01A'}\n"
     ]
    }
   ],
   "source": [
    "# Load the first chunk of the CNA data to inspect column headers\n",
    "first_chunk = next(pd.read_csv(cna_data_path, sep=\"\\t\", chunksize=1))\n",
    "cna_sample_ids = first_chunk.columns[1:]  # Exclude the first column (Entrez_Gene_Id)\n",
    "\n",
    "# Compare sample IDs\n",
    "print(\"Clinical Sample IDs:\", len(clinical_df[\"SAMPLE_ID\"].unique()))\n",
    "print(\"CNA Sample IDs:\", len(cna_sample_ids))\n",
    "\n",
    "# Check for mismatches\n",
    "mismatched_ids = set(clinical_df[\"SAMPLE_ID\"]) - set(cna_sample_ids)\n",
    "if mismatched_ids:\n",
    "    print(f\"Mismatched Sample IDs: {mismatched_ids}\")\n",
    "else:\n",
    "    print(\"No mismatched Sample IDs.\")"
   ]
  },
  {
   "cell_type": "code",
   "execution_count": 71,
   "id": "b23a268f-d186-455b-acb9-dd5bb8448c88",
   "metadata": {},
   "outputs": [],
   "source": [
    "# Find common sample IDs\n",
    "common_sample_ids = set(clinical_df[\"SAMPLE_ID\"]).intersection(set(cna_sample_ids))\n",
    "\n",
    "# Filter clinical data\n",
    "clinical_df = clinical_df[clinical_df[\"SAMPLE_ID\"].isin(common_sample_ids)]\n",
    "\n",
    "# Filter CNA data\n",
    "filtered_chunks = []\n",
    "for chunk in pd.read_csv(cna_data_path, sep=\"\\t\", chunksize=chunk_size):\n",
    "    filtered_chunk = chunk[[\"Entrez_Gene_Id\"] + list(common_sample_ids)]\n",
    "    filtered_chunks.append(filtered_chunk)\n",
    "\n",
    "# Combine filtered chunks into a single DataFrame\n",
    "cna_filtered_df = pd.concat(filtered_chunks, axis=0)\n",
    "\n",
    "# Convert to sparse matrix\n",
    "sparse_chunks = []\n",
    "for chunk in filtered_chunks:\n",
    "    sparse_chunk = csr_matrix(chunk.drop(columns=[\"Entrez_Gene_Id\"]).values)\n",
    "    sparse_chunks.append(sparse_chunk)\n",
    "\n",
    "# Combine sparse chunks\n",
    "cna_sparse = vstack(sparse_chunks)\n",
    "\n",
    "# Update gene IDs\n",
    "gene_ids = cna_filtered_df[\"Entrez_Gene_Id\"].tolist()\n",
    "gene_df = pd.DataFrame({\"Entrez_Gene_Id\": gene_ids})"
   ]
  },
  {
   "cell_type": "code",
   "execution_count": 72,
   "id": "6f6f66ad-d035-4434-9bc0-646e2ba1575f",
   "metadata": {},
   "outputs": [
    {
     "name": "stdout",
     "output_type": "stream",
     "text": [
      "Dimensions aligned successfully!\n"
     ]
    }
   ],
   "source": [
    "assert cna_sparse.shape[1] == len(clinical_df[\"SAMPLE_ID\"]), \"Mismatch between CNA data columns and sample IDs\"\n",
    "print(\"Dimensions aligned successfully!\")"
   ]
  },
  {
   "cell_type": "code",
   "execution_count": 73,
   "id": "ee98b214-fca7-48ca-b187-3ef1623e4856",
   "metadata": {},
   "outputs": [
    {
     "name": "stdout",
     "output_type": "stream",
     "text": [
      "Merged data shape: (392, 38329)\n"
     ]
    }
   ],
   "source": [
    "# Create a DataFrame for the sparse matrix\n",
    "cna_dense = pd.DataFrame.sparse.from_spmatrix(cna_sparse, columns=list(common_sample_ids), index=gene_df[\"Entrez_Gene_Id\"])\n",
    "\n",
    "# Transpose the DataFrame to match clinical data format\n",
    "cna_dense = cna_dense.T\n",
    "\n",
    "# Merge with clinical data\n",
    "merged_data = pd.merge(clinical_df, cna_dense, left_on=\"SAMPLE_ID\", right_index=True, how=\"inner\")\n",
    "\n",
    "print(\"Merged data shape:\", merged_data.shape)"
   ]
  },
  {
   "cell_type": "code",
   "execution_count": null,
   "id": "73384c64-ab56-4d1d-a8ac-b5ca996b9917",
   "metadata": {},
   "outputs": [],
   "source": [
    "# Create a DataFrame for the sparse matrix\n",
    "cna_dense = pd.DataFrame.sparse.from_spmatrix(cna_sparse, columns=list(common_sample_ids), index=gene_df[\"Entrez_Gene_Id\"])\n",
    "\n",
    "# Transpose the DataFrame to match clinical data format\n",
    "cna_dense = cna_dense.T\n",
    "\n",
    "# Merge with clinical data\n",
    "merged_data = pd.merge(clinical_df, cna_dense, left_on=\"SAMPLE_ID\", right_index=True, how=\"inner\")\n",
    "\n",
    "print(\"Merged data shape:\", merged_data.shape)\n",
    "\n",
    "# Extract the top 10 rows\n",
    "top_10_rows = merged_data.head(10)\n",
    "\n",
    "# Save the top 10 rows to a file\n",
    "output_file = \"merged_data.txt\"\n",
    "top_10_rows.to_csv(output_file, sep=\"\\t\", index=False)\n",
    "\n",
    "print(f\"Top 10 rows of merged data saved to {output_file}\")"
   ]
  },
  {
   "cell_type": "code",
   "execution_count": null,
   "id": "afa5b54e-eb86-424f-b3cf-ee5145058e7a",
   "metadata": {},
   "outputs": [],
   "source": []
  },
  {
   "cell_type": "code",
   "execution_count": null,
   "id": "0caa23f5-2f16-4af6-b042-99b5127e08eb",
   "metadata": {},
   "outputs": [],
   "source": []
  },
  {
   "cell_type": "code",
   "execution_count": null,
   "id": "e5759d32-4157-46f4-993a-4f6d5173e146",
   "metadata": {},
   "outputs": [],
   "source": []
  },
  {
   "cell_type": "code",
   "execution_count": null,
   "id": "c655729b-ba13-408d-8da0-09962abe4a40",
   "metadata": {},
   "outputs": [],
   "source": []
  }
 ],
 "metadata": {
  "kernelspec": {
   "display_name": "Python 3 (ipykernel)",
   "language": "python",
   "name": "python3"
  },
  "language_info": {
   "codemirror_mode": {
    "name": "ipython",
    "version": 3
   },
   "file_extension": ".py",
   "mimetype": "text/x-python",
   "name": "python",
   "nbconvert_exporter": "python",
   "pygments_lexer": "ipython3",
   "version": "3.12.2"
  }
 },
 "nbformat": 4,
 "nbformat_minor": 5
}
